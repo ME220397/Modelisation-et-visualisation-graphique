{
 "cells": [
  {
   "cell_type": "markdown",
   "metadata": {},
   "source": [
    "## View Frustum et Illumination"
   ]
  },
  {
   "cell_type": "code",
   "execution_count": 2,
   "metadata": {},
   "outputs": [],
   "source": [
    "reset()\n",
    "\n",
    "def produit_scalaire(U,V):\n",
    "    \n",
    "    return U.column(0).dot_product(V.column(0))\n",
    "\n",
    "def produit_vectoriel(U,V):\n",
    "      \n",
    "    W = U.column(0)[0:3].cross_product(V.column(0)[0:3])\n",
    "    \n",
    "    return matrix([[W[0]],[W[1]],[W[2]],[0]])\n",
    "\n",
    "def normal_au_plan(P):\n",
    "    \n",
    "    U = P.matrix_from_columns([1])-P.matrix_from_columns([0])\n",
    "    V = P.matrix_from_columns([2])-P.matrix_from_columns([0])\n",
    "    W = produit_vectoriel(U,V)  \n",
    "    \n",
    "    return W/norm(W)\n",
    "\n",
    "def produit_cpte_cpte(A,B):\n",
    "    \n",
    "    return matrix([[A[0,0]*B[0,0]],[A[1,0]*B[1,0]],[A[2,0]*B[2,0]]])"
   ]
  },
  {
   "cell_type": "code",
   "execution_count": 3,
   "metadata": {},
   "outputs": [],
   "source": [
    "\n",
    "def afficher_polygone(P,color):\n",
    "    \n",
    "    return polygon(tuple(P[0:3].transpose()),color=color)\n",
    "\n",
    "def afficher_mallaige_polygonal(V,C,color):\n",
    "    \n",
    "    P = 0\n",
    "    for c in C:\n",
    "        sommets = []\n",
    "        for n in c:\n",
    "            if n > -1:\n",
    "                sommets.append(V.column(n)[0:3])\n",
    "        P = P + polygon(sommets,opacity=0.5, color=color)\n",
    "    return P"
   ]
  },
  {
   "cell_type": "code",
   "execution_count": 4,
   "metadata": {},
   "outputs": [],
   "source": [
    "t = var('t')\n",
    "\n",
    "def courbe_bezier(PC):\n",
    "    \n",
    "    B = matrix([[-1,3,-3,1],[3,-6,3,0],[-3,3,0,0],[1,0,0,0]])    \n",
    "    T = matrix([[t^3],[t^2],[t],[1]])\n",
    "    \n",
    "    return PC*B*T\n",
    "\n",
    "def afficher_courbe_parametrique(C,t,a,b,color):\n",
    "    \n",
    "    return parametric_plot3d(C.column(0)[0:3], (t,a,b), color = color, thickness = 4) \n",
    "\n",
    "def afficher_courbe_parametrique2D(C,t,a,b,color):\n",
    "    \n",
    "    return parametric_plot(C.column(0)[0:2], (t,a,b), color = color, thickness = 4) "
   ]
  },
  {
   "cell_type": "code",
   "execution_count": 5,
   "metadata": {},
   "outputs": [],
   "source": [
    "def translation(d): \n",
    "    \n",
    "    return matrix([[1,0,0,d[0,0]],[0,1,0,d[1,0]],[0,0,1,d[2,0]],[0,0,0,1]]) \n",
    "\n",
    "def rotation_axe(eje,angulo):\n",
    "    \n",
    "    if eje == 'x':\n",
    "        M = matrix([[1,0,0,0],[0,cos(angulo),-sin(angulo),0],[0,sin(angulo),cos(angulo),0],[0,0,0,1]])\n",
    "    elif eje == 'y':\n",
    "        M = matrix([[cos(angulo),0,sin(angulo),0],[0,1,0,0],[-sin(angulo),0,cos(angulo),0],[0,0,0,1]])    \n",
    "    else:\n",
    "        M = matrix([[cos(angulo),-sin(angulo),0,0],[sin(angulo),cos(angulo),0,0],[0,0,1,0],[0,0,0,1]])   \n",
    "        \n",
    "    return M\n",
    "\n",
    "def homothetie(r):  \n",
    "         \n",
    "    return matrix([[r[0,0],0,0,0],[0,r[1,0],0,0],[0,0,r[2,0],0],[0,0,0,1]]) \n",
    "\n",
    "def simetria(n):\n",
    "    \n",
    "    n = n/norm(n)\n",
    "    I = matrix([[1,0,0,0],[0,1,0,0],[0,0,1,0],[0,0,0,1]])\n",
    "    \n",
    "    return I-2*n*n.transpose()\n",
    "\n",
    "def shear(d,ang1,ang2):\n",
    "    \n",
    "    if d == 'x':\n",
    "        M = matrix([[1, tan(ang1), tan(ang2), 0],[0, 1, 0, 0],[0, 0, 1, 0],[0, 0, 0, 1]])\n",
    "    \n",
    "    elif d == 'y':\n",
    "        M = matrix([[1 ,0 ,0 ,0],[ tan(ang1), 1, tan(ang2), 0],[0, 0, 1, 0],[0, 0, 0, 1]])\n",
    "    \n",
    "    else:\n",
    "        M = matrix([[1, 0, 0, 0],[0, 1, 0, 0],[tan(ang1), tan(ang2), 1, 0],[0, 0, 0, 1]])\n",
    "        \n",
    "    return M"
   ]
  },
  {
   "cell_type": "code",
   "execution_count": 6,
   "metadata": {},
   "outputs": [],
   "source": [
    "def transf_camera(e,c,up):\n",
    "    at = c-e\n",
    "    w = -at/norm(at)\n",
    "    u = produit_vectoriel(up,w)\n",
    "    u = u/norm(u)\n",
    "    v = produit_vectoriel(w,u) \n",
    "    \n",
    "    a = u[0,0]*e[0,0]+u[1,0]*e[1,0]+u[2,0]*e[2,0]\n",
    "    b = v[0,0]*e[0,0]+v[1,0]*e[1,0]+v[2,0]*e[2,0]\n",
    "    c = w[0,0]*e[0,0]+w[1,0]*e[1,0]+w[2,0]*e[2,0]\n",
    "\n",
    "    M_cam = matrix([[u[0,0],u[1,0],u[2,0],-a],[v[0,0],v[1,0],v[2,0],-b],[w[0,0],w[1,0],w[2,0],-c],[0,0,0,1]])\n",
    "    return M_cam\n",
    "\n",
    "def transf_persp(near,far):\n",
    "    M_persp = matrix([[near, 0, 0, 0],[0, near, 0, 0],[0, 0, near+far, -near*far],[0, 0, 1, 0]])\n",
    "    return M_persp\n",
    "\n",
    "\n",
    "def transf_morth(l,r,b,top,near,far):\n",
    "    M_morth = matrix([[2/(r-l), 0, 0, -(r+l)/(r-l)],[0, 2/(top-b), 0, -(top+b)/(top-b)],[0, 0, 2/(near-far), -(near+far)/(near-far)],[0, 0, 0, 1]])\n",
    "    return M_morth\n",
    "\n",
    "\n",
    "def transf_vp(nx,ny):\n",
    "    M_vp = matrix([[nx/2, 0, 0, (nx-1)/2],[0, ny/2, 0, (ny-1)/2],[0, 0, 1, 0],[0, 0, 0, 1]])\n",
    "    return M_vp\n",
    "\n",
    "def simplifyMatrix(matrix):\n",
    "    Smatrix = matrix\n",
    "    for j in range(matrix.ncols()):\n",
    "        for i in range(matrix.nrows()):\n",
    "            Smatrix[i,j] = matrix[i,j]/matrix[matrix.nrows()-1,j]\n",
    "    return Smatrix   \n",
    "\n",
    "\n",
    "def afficherFrustum( l,r,b,top,near,far ):\n",
    "    \n",
    "    #Vértices del frustum\n",
    "    V = matrix([[r, r, l, l, (far/near)*r, (far/near)*r, (far/near)*l, (far/near)*l],[b, top, top, b, (far/near)*b, (far/near)*top, (far/near)*top, (far/near)*b],[near, near, near, near, far, far, far, far]])\n",
    "    #Caras del frustum\n",
    "    C = matrix([[0,1,2,3],[4,5,6,7],[1,2,6,5],[0,3,7,4],[2,6,7,3],[1,5,4,0]])\n",
    "    \n",
    "    return afficher_mallaige_polygonal(V,C,'black')"
   ]
  },
  {
   "cell_type": "code",
   "execution_count": 7,
   "metadata": {},
   "outputs": [],
   "source": [
    "def distance(A,B):\n",
    "    \n",
    "    dist = sqrt((A[0,0]-B[0,0])^2+(A[1,0]-B[1,0])^2+(A[2,0]-B[2,0])^2)\n",
    "    return dist.n()\n",
    "\n",
    "def distance_en_pixels(A,B):\n",
    "    \n",
    "    dist = sqrt((A[0,0]-B[0,0])^2+(A[1,0]-B[1,0])^2)\n",
    "    return dist.n()\n",
    "\n",
    "# View frustum culling\n",
    "\n",
    "def centre_sphere(V):\n",
    "    return matrix( [[sum(V.row(0))/V.ncols()], [sum(V.row(1))/V.ncols()], [sum(V.row(2))/V.ncols()], [1]])\n",
    "\n",
    "def rayon_sphere(centre,V):\n",
    "    return max([distance(centre,V.matrix_from_columns([i])) for i in range(V.ncols())] )\n",
    "\n",
    "def distance_centreSRC_viewFrustum(centreSRC,l,r,b,top,near,far):\n",
    "    #Vecteurs normaux aux plans du viewfrustum\n",
    "    nnear = matrix( [[0], [0], [1], [0]])\n",
    "    nfar = matrix( [[0], [0], [-1], [0]])\n",
    "    nright = matrix( [[-near], [0], [r], [0]])\n",
    "    nleft = matrix( [[near], [0], [-l], [0]])\n",
    "    ntop = matrix( [[0], [-near], [top], [0]])\n",
    "    nbottom = matrix( [[0], [near], [-b], [0]])\n",
    "    dnear = abs(centreSRC[2][0]-near)\n",
    "    dfar = abs(centreSRC[2][0]-far)\n",
    "    dright = abs(produit_scalaire(centreSRC,nright))/norm(nright)\n",
    "    dleft = abs(produit_scalaire(centreSRC,nleft))/norm(nleft)\n",
    "    dtop = abs(produit_scalaire(centreSRC,ntop))/norm(ntop)\n",
    "    dbottom = abs(produit_scalaire(centreSRC,nbottom))/norm(nbottom)\n",
    "    \n",
    "    show('distance plan left=',dleft.n())\n",
    "    show('distance plan right=',dright.n()) \n",
    "    show('distance plan bottom=',dbottom.n())\n",
    "    show('distance plan top=',dtop.n())\n",
    "    show('distance plan near=',dnear.n())\n",
    "    show('distance plan far=',dfar.n())\n",
    "    \n",
    "    return dleft,dright,dbottom,dtop,dnear,dfar\n",
    "\n",
    "#small culling\n",
    "\n",
    "def bounding_box(Vscreen):    \n",
    "    P = matrix([[min(Vscreen.row(0))],[min(Vscreen.row(1))],[1]])\n",
    "    show('P=',P)\n",
    "    Q = matrix([[max(Vscreen.row(0))],[max(Vscreen.row(1))],[1]])\n",
    "    show('Q=',Q)\n",
    "    return P,Q\n",
    "\n",
    "#backface culling\n",
    "\n",
    "def backface_culling(V,C,at):\n",
    "    \n",
    "    P = []\n",
    "    for c in C:\n",
    "        n = normal_au_plan(V.matrix_from_columns([c[0],c[1],c[2]]))\n",
    "        p=produit_scalaire(n,at)\n",
    "        P.append(p)\n",
    "    return P"
   ]
  },
  {
   "cell_type": "code",
   "execution_count": 8,
   "metadata": {},
   "outputs": [],
   "source": [
    "\n",
    "\n",
    "def intersect_cote_plan(A,B,l,r,b,top,near,far):\n",
    "    \n",
    "    nnear = matrix( [[0], [0], [1], [0]])\n",
    "    nfar = matrix( [[0], [0], [-1], [0]])\n",
    "    nright = matrix( [[-near], [0], [r], [0]])\n",
    "    nleft = matrix( [[near], [0], [-l], [0]])\n",
    "    ntop = matrix( [[0], [-near], [top], [0]])\n",
    "    nbottom = matrix( [[0], [near], [-b], [0]])\n",
    "    \n",
    "    #Parametres\n",
    "    Qnear = matrix( [[0], [0], [near], [1]])\n",
    "    Qfar = matrix( [[0], [0], [far], [1]])\n",
    "    \n",
    "    if produit_scalaire(nleft,B-A)==0:\n",
    "        tleft = 100000000\n",
    "        show('Le cote est parallele au plan left')\n",
    "    else:\n",
    "        tleft = produit_scalaire(nleft,-A)/produit_scalaire(nleft,B-A)\n",
    "           \n",
    "    if produit_scalaire(nright,B-A)==0:\n",
    "        tright = 100000000\n",
    "        show('Le cote est parallele au plan right')\n",
    "    else:\n",
    "        tright = produit_scalaire(nright,-A)/produit_scalaire(nright,B-A)\n",
    "        \n",
    "    if produit_scalaire(nbottom,B-A)==0:\n",
    "        tbottom = 100000000\n",
    "        show('Le cote est parallele au plan bottom')\n",
    "    else:\n",
    "        tbottom = produit_scalaire(nbottom,-A)/produit_scalaire(nbottom,B-A)\n",
    "        \n",
    "    if produit_scalaire(ntop,B-A)==0:\n",
    "        ttop = 100000000\n",
    "        show('Le cote est parallele au plan top')\n",
    "    else:\n",
    "        ttop = produit_scalaire(ntop,-A)/produit_scalaire(ntop,B-A)\n",
    "           \n",
    "    if produit_scalaire(nnear,B-A)==0:\n",
    "        tnear = 100000000\n",
    "        show('Le cote est parallele au plan near')\n",
    "    else:\n",
    "        tnear = produit_scalaire(nnear,Qnear-A)/produit_scalaire(nnear,B-A)\n",
    "        \n",
    "    if produit_scalaire(nfar,B-A)==0:\n",
    "        tfar = 100000000\n",
    "        show('Le cote et le plan far sont paralleles')\n",
    "    else:\n",
    "        tfar = produit_scalaire(nfar,Qfar-A)/produit_scalaire(nfar,B-A)\n",
    "    \n",
    "    show('Parametre plan left= ',tleft,'=',tleft.n())\n",
    "    show('Parametre plan right= ',tright,'=',tright.n()) \n",
    "    show('Parametre plan bottom= ',tbottom,'=',tbottom.n())\n",
    "    show('Parametre plan top= ',ttop,'=',ttop.n())\n",
    "    show('Parametre plan near= ',tnear,'=',tnear.n())\n",
    "    show('Parametre plan far= ',tfar,'=',tfar.n())\n",
    "    \n",
    "    return tleft,tright,tbottom,ttop,tnear,tfar\n"
   ]
  },
  {
   "cell_type": "code",
   "execution_count": 9,
   "metadata": {},
   "outputs": [],
   "source": [
    "\n",
    "def ilumination_Phong(F,e,V,n,IF,LA,kA,kD,kS,p):\n",
    "    \n",
    "    n = n/norm(n)\n",
    "    show('n=',n)\n",
    "    \n",
    "    l = (F-V)/norm(F-V)\n",
    "    show('l=',l)\n",
    "    \n",
    "    cosPhi = produit_scalaire(l,n)\n",
    "    show('cosPhi=',cosPhi) \n",
    "        \n",
    "    v = (e-V)/norm(e-V)\n",
    "    show('v=',v)    \n",
    "    \n",
    "    r = 2*cosPhi*n-l\n",
    "    show('r=',r)\n",
    "    \n",
    "    cosAlpha = produit_scalaire(r,v)\n",
    "    show('cosAlpha=',cosAlpha)\n",
    "    \n",
    "    IA=produit_cpte_cpte(kA,LA)\n",
    "    show('IA=',IA)\n",
    "    \n",
    "    ID=max(0,cosPhi)*produit_cpte_cpte(kD,IF)\n",
    "    show('ID=',ID)\n",
    "    \n",
    "    IS=(max(0,cosAlpha))^p*produit_cpte_cpte(kS,IF)\n",
    "    show('IS=',IS)\n",
    "    \n",
    "    IV = IA+ID+IS\n",
    "    show('IV=', IV)\n",
    "    \n",
    "    return IV*255  \n",
    "\n",
    "def coordonnees_baricentre(A,B,C,P):\n",
    "    \n",
    "    areaABC=det(matrix([[C[0,0]-A[0,0],B[0,0]-A[0,0]],[C[1,0]-A[1,0],B[1,0]-A[1,0]]]))    \n",
    "    b=det(matrix([[C[0,0]-A[0,0],P[0,0]-A[0,0]],[C[1,0]-A[1,0],P[1,0]-A[1,0]]]))/areaABC\n",
    "    c=det(matrix([[B[0,0]-A[0,0],P[0,0]-A[0,0]],[B[1,0]-A[1,0],P[1,0]-A[1,0]]]))/(-areaABC)\n",
    "    a=1-b-c\n",
    "    return a,b,c\n",
    "\n",
    "def composante_profendeur(A,B,C,P):\n",
    "\n",
    "    barP=coordonnees_baricentre(A,B,C,P)\n",
    "    return barP[0]*A[2,0]+barP[1]*B[2,0]+barP[2]*C[2,0]"
   ]
  },
  {
   "cell_type": "markdown",
   "metadata": {},
   "source": [
    "### Exemple:"
   ]
  },
  {
   "cell_type": "code",
   "execution_count": 10,
   "metadata": {},
   "outputs": [],
   "source": [
    "\n",
    "F = matrix([[-5], [-5], [5], [1]])\n",
    "e = matrix([[0], [0], [0], [1]])\n",
    "V = matrix([[1], [-1], [-5], [1]])\n",
    "n =  matrix([[-0.1], [-0.9], [-0.4], [0]])\n",
    "IF = matrix([[1], [ 1], [ 1]])\n",
    "LA = matrix([[0.2], [ 0.2 ], [0.2]])\n",
    "kA = matrix([ [0.24725], [0.1995], [0.0745]])\n",
    "kD = matrix([ [0.75164], [ 0.60648], [ 0.22648]])\n",
    "kS = matrix([[0.628281], [ 0.555802], [ 0.36606]])\n",
    "p = 1"
   ]
  },
  {
   "cell_type": "code",
   "execution_count": 11,
   "metadata": {},
   "outputs": [
    {
     "data": {
      "text/html": [
       "<html><script type=\"math/tex; mode=display\">\\newcommand{\\Bold}[1]{\\mathbf{#1}}\\verb|n=| \\left(\\begin{array}{r}\n",
       "-0.101015254455221 \\\\\n",
       "-0.909137290096990 \\\\\n",
       "-0.404061017820884 \\\\\n",
       "0.000000000000000\n",
       "\\end{array}\\right)</script></html>"
      ],
      "text/plain": [
       "'n=' [-0.101015254455221]\n",
       "[-0.909137290096990]\n",
       "[-0.404061017820884]\n",
       "[ 0.000000000000000]"
      ]
     },
     "metadata": {},
     "output_type": "display_data"
    },
    {
     "data": {
      "text/html": [
       "<html><script type=\"math/tex; mode=display\">\\newcommand{\\Bold}[1]{\\mathbf{#1}}\\verb|l=| \\left(\\begin{array}{r}\n",
       "-0.48666426339228763 \\\\\n",
       "-0.3244428422615251 \\\\\n",
       "0.8111071056538127 \\\\\n",
       "0.0\n",
       "\\end{array}\\right)</script></html>"
      ],
      "text/plain": [
       "'l=' [-0.48666426339228763]\n",
       "[ -0.3244428422615251]\n",
       "[  0.8111071056538127]\n",
       "[                 0.0]"
      ]
     },
     "metadata": {},
     "output_type": "display_data"
    },
    {
     "data": {
      "text/html": [
       "<html><script type=\"math/tex; mode=display\">\\newcommand{\\Bold}[1]{\\mathbf{#1}}\\verb|cosPhi=| 0.016386838133611525</script></html>"
      ],
      "text/plain": [
       "'cosPhi=' 0.016386838133611525"
      ]
     },
     "metadata": {},
     "output_type": "display_data"
    },
    {
     "data": {
      "text/html": [
       "<html><script type=\"math/tex; mode=display\">\\newcommand{\\Bold}[1]{\\mathbf{#1}}\\verb|v=| \\left(\\begin{array}{r}\n",
       "-0.19245008972987526 \\\\\n",
       "0.19245008972987526 \\\\\n",
       "0.9622504486493764 \\\\\n",
       "0.0\n",
       "\\end{array}\\right)</script></html>"
      ],
      "text/plain": [
       "'v=' [-0.19245008972987526]\n",
       "[ 0.19245008972987526]\n",
       "[  0.9622504486493764]\n",
       "[                 0.0]"
      ]
     },
     "metadata": {},
     "output_type": "display_data"
    },
    {
     "data": {
      "text/html": [
       "<html><script type=\"math/tex; mode=display\">\\newcommand{\\Bold}[1]{\\mathbf{#1}}\\verb|r=| \\left(\\begin{array}{r}\n",
       "0.483353622144721 \\\\\n",
       "0.294647071033426 \\\\\n",
       "-0.824349670644079 \\\\\n",
       "0.000000000000000\n",
       "\\end{array}\\right)</script></html>"
      ],
      "text/plain": [
       "'r=' [ 0.483353622144721]\n",
       "[ 0.294647071033426]\n",
       "[-0.824349670644079]\n",
       "[ 0.000000000000000]"
      ]
     },
     "metadata": {},
     "output_type": "display_data"
    },
    {
     "data": {
      "text/html": [
       "<html><script type=\"math/tex; mode=display\">\\newcommand{\\Bold}[1]{\\mathbf{#1}}\\verb|cosAlpha=| -0.829547433115215</script></html>"
      ],
      "text/plain": [
       "'cosAlpha=' -0.829547433115215"
      ]
     },
     "metadata": {},
     "output_type": "display_data"
    },
    {
     "data": {
      "text/html": [
       "<html><script type=\"math/tex; mode=display\">\\newcommand{\\Bold}[1]{\\mathbf{#1}}\\verb|IA=| \\left(\\begin{array}{r}\n",
       "0.0494500000000000 \\\\\n",
       "0.0399000000000000 \\\\\n",
       "0.0149000000000000\n",
       "\\end{array}\\right)</script></html>"
      ],
      "text/plain": [
       "'IA=' [0.0494500000000000]\n",
       "[0.0399000000000000]\n",
       "[0.0149000000000000]"
      ]
     },
     "metadata": {},
     "output_type": "display_data"
    },
    {
     "data": {
      "text/html": [
       "<html><script type=\"math/tex; mode=display\">\\newcommand{\\Bold}[1]{\\mathbf{#1}}\\verb|ID=| \\left(\\begin{array}{r}\n",
       "0.0123170030147478 \\\\\n",
       "0.00993828959127272 \\\\\n",
       "0.00371129110050034\n",
       "\\end{array}\\right)</script></html>"
      ],
      "text/plain": [
       "'ID=' [ 0.0123170030147478]\n",
       "[0.00993828959127272]\n",
       "[0.00371129110050034]"
      ]
     },
     "metadata": {},
     "output_type": "display_data"
    },
    {
     "data": {
      "text/html": [
       "<html><script type=\"math/tex; mode=display\">\\newcommand{\\Bold}[1]{\\mathbf{#1}}\\verb|IS=| \\left(\\begin{array}{r}\n",
       "0.000000000000000 \\\\\n",
       "0.000000000000000 \\\\\n",
       "0.000000000000000\n",
       "\\end{array}\\right)</script></html>"
      ],
      "text/plain": [
       "'IS=' [0.000000000000000]\n",
       "[0.000000000000000]\n",
       "[0.000000000000000]"
      ]
     },
     "metadata": {},
     "output_type": "display_data"
    },
    {
     "data": {
      "text/html": [
       "<html><script type=\"math/tex; mode=display\">\\newcommand{\\Bold}[1]{\\mathbf{#1}}\\verb|IV=| \\left(\\begin{array}{r}\n",
       "0.0617670030147478 \\\\\n",
       "0.0498382895912727 \\\\\n",
       "0.0186112911005003\n",
       "\\end{array}\\right)</script></html>"
      ],
      "text/plain": [
       "'IV=' [0.0617670030147478]\n",
       "[0.0498382895912727]\n",
       "[0.0186112911005003]"
      ]
     },
     "metadata": {},
     "output_type": "display_data"
    },
    {
     "data": {
      "text/plain": [
       "[15.7505857687607]\n",
       "[12.7087638457745]\n",
       "[4.74587923062759]"
      ]
     },
     "execution_count": 11,
     "metadata": {},
     "output_type": "execute_result"
    }
   ],
   "source": [
    "ilumination_Phong(F,e,V,n,IF,LA,kA,kD,kS,p)"
   ]
  },
  {
   "cell_type": "markdown",
   "metadata": {},
   "source": [
    "### Ombres FLAT:"
   ]
  },
  {
   "cell_type": "code",
   "execution_count": 12,
   "metadata": {},
   "outputs": [
    {
     "data": {
      "text/html": [
       "<html><script type=\"math/tex; mode=display\">\\newcommand{\\Bold}[1]{\\mathbf{#1}}\\verb|V=| \\left(\\begin{array}{rrrrr}\n",
       "1 & -1 & 0 & 2 & 0 \\\\\n",
       "-1 & 0 & 1 & 0 & 0 \\\\\n",
       "0 & 0 & 0 & 0 & 2 \\\\\n",
       "1 & 1 & 1 & 1 & 1\n",
       "\\end{array}\\right)</script></html>"
      ],
      "text/plain": [
       "'V=' [ 1 -1  0  2  0]\n",
       "[-1  0  1  0  0]\n",
       "[ 0  0  0  0  2]\n",
       "[ 1  1  1  1  1]"
      ]
     },
     "metadata": {},
     "output_type": "display_data"
    },
    {
     "data": {
      "text/html": [
       "<html><script type=\"math/tex; mode=display\">\\newcommand{\\Bold}[1]{\\mathbf{#1}}\\verb|Mcam=| \\left(\\begin{array}{rrrr}\n",
       "1.0 & 0.0 & 0.0 & -0.0 \\\\\n",
       "0.0 & 1.0 & 0.0 & -0.0 \\\\\n",
       "0.0 & 0.0 & 1.0 & -5.0 \\\\\n",
       "0.0 & 0.0 & 0.0 & 1.0\n",
       "\\end{array}\\right)</script></html>"
      ],
      "text/plain": [
       "'Mcam=' [ 1.0  0.0  0.0 -0.0]\n",
       "[ 0.0  1.0  0.0 -0.0]\n",
       "[ 0.0  0.0  1.0 -5.0]\n",
       "[ 0.0  0.0  0.0  1.0]"
      ]
     },
     "metadata": {},
     "output_type": "display_data"
    },
    {
     "data": {
      "text/html": [
       "<html><script type=\"math/tex; mode=display\">\\newcommand{\\Bold}[1]{\\mathbf{#1}}\\verb|Vcam=| \\left(\\begin{array}{rrrrr}\n",
       "1.0 & -1.0 & 0.0 & 2.0 & 0.0 \\\\\n",
       "-1.0 & 0.0 & 1.0 & 0.0 & 0.0 \\\\\n",
       "-5.0 & -5.0 & -5.0 & -5.0 & -3.0 \\\\\n",
       "1.0 & 1.0 & 1.0 & 1.0 & 1.0\n",
       "\\end{array}\\right)</script></html>"
      ],
      "text/plain": [
       "'Vcam=' [ 1.0 -1.0  0.0  2.0  0.0]\n",
       "[-1.0  0.0  1.0  0.0  0.0]\n",
       "[-5.0 -5.0 -5.0 -5.0 -3.0]\n",
       "[ 1.0  1.0  1.0  1.0  1.0]"
      ]
     },
     "metadata": {},
     "output_type": "display_data"
    }
   ],
   "source": [
    "\n",
    "V = matrix([[1,-1,0,2,0],[-1,0,1,0,0],[0,0,0,0,2],[1,1,1,1,1]])\n",
    "show('V=',V)\n",
    "e = matrix([[0],[0],[5],[1]])\n",
    "c = matrix([[0],[0],[2],[1]])\n",
    "up = matrix([[0],[1],[0],[0]])\n",
    "Mcam = transf_camera(e,c,up)\n",
    "show('Mcam=',Mcam)\n",
    "Vcam = Mcam*V\n",
    "show('Vcam=',Vcam)"
   ]
  },
  {
   "cell_type": "code",
   "execution_count": 13,
   "metadata": {},
   "outputs": [
    {
     "data": {
      "text/html": [
       "<html><script type=\"math/tex; mode=display\">\\newcommand{\\Bold}[1]{\\mathbf{#1}}\\verb|Vnew=| \\left(\\begin{array}{rrrrrrr}\n",
       "1.00000000000000 & -1.00000000000000 & 0.000000000000000 & 1.33970000000000 & 1.09810000000000 & 1.33970000000000 & 0.000000000000000 \\\\\n",
       "-1.00000000000000 & 0.000000000000000 & 1.00000000000000 & -0.660300000000000 & 0.000000000000000 & 0.330100000000000 & 0.000000000000000 \\\\\n",
       "-5.00000000000000 & -5.00000000000000 & -5.00000000000000 & -5.00000000000000 & -4.09810000000000 & -5.00000000000000 & -3.00000000000000 \\\\\n",
       "1.00000000000000 & 1.00000000000000 & 1.00000000000000 & 1.00000000000000 & 1.00000000000000 & 1.00000000000000 & 1.00000000000000\n",
       "\\end{array}\\right)</script></html>"
      ],
      "text/plain": [
       "'Vnew=' [  1.00000000000000  -1.00000000000000  0.000000000000000   1.33970000000000   1.09810000000000   1.33970000000000  0.000000000000000]\n",
       "[ -1.00000000000000  0.000000000000000   1.00000000000000 -0.660300000000000  0.000000000000000  0.330100000000000  0.000000000000000]\n",
       "[ -5.00000000000000  -5.00000000000000  -5.00000000000000  -5.00000000000000  -4.09810000000000  -5.00000000000000  -3.00000000000000]\n",
       "[  1.00000000000000   1.00000000000000   1.00000000000000   1.00000000000000   1.00000000000000   1.00000000000000   1.00000000000000]"
      ]
     },
     "metadata": {},
     "output_type": "display_data"
    },
    {
     "data": {
      "text/html": [
       "<html><script type=\"math/tex; mode=display\">\\newcommand{\\Bold}[1]{\\mathbf{#1}}\\verb|V=| \\left(\\begin{array}{r}\n",
       "0.000000000000000 \\\\\n",
       "-0.333333333333333 \\\\\n",
       "-4.33333333333333 \\\\\n",
       "1.00000000000000\n",
       "\\end{array}\\right)</script></html>"
      ],
      "text/plain": [
       "'V=' [ 0.000000000000000]\n",
       "[-0.333333333333333]\n",
       "[ -4.33333333333333]\n",
       "[  1.00000000000000]"
      ]
     },
     "metadata": {},
     "output_type": "display_data"
    },
    {
     "data": {
      "text/html": [
       "<html><script type=\"math/tex; mode=display\">\\newcommand{\\Bold}[1]{\\mathbf{#1}}\\verb|n=| \\left(\\begin{array}{r}\n",
       "-0.436435780471985 \\\\\n",
       "-0.872871560943970 \\\\\n",
       "0.218217890235992 \\\\\n",
       "0.000000000000000\n",
       "\\end{array}\\right)</script></html>"
      ],
      "text/plain": [
       "'n=' [-0.436435780471985]\n",
       "[-0.872871560943970]\n",
       "[ 0.218217890235992]\n",
       "[ 0.000000000000000]"
      ]
     },
     "metadata": {},
     "output_type": "display_data"
    },
    {
     "data": {
      "text/html": [
       "<html><script type=\"math/tex; mode=display\">\\newcommand{\\Bold}[1]{\\mathbf{#1}}\\verb|l=| \\left(\\begin{array}{r}\n",
       "-0.432113401436758 \\\\\n",
       "-0.403305841340974 \\\\\n",
       "0.806611682681948 \\\\\n",
       "0.000000000000000\n",
       "\\end{array}\\right)</script></html>"
      ],
      "text/plain": [
       "'l=' [-0.432113401436758]\n",
       "[-0.403305841340974]\n",
       "[ 0.806611682681948]\n",
       "[ 0.000000000000000]"
      ]
     },
     "metadata": {},
     "output_type": "display_data"
    },
    {
     "data": {
      "text/html": [
       "<html><script type=\"math/tex; mode=display\">\\newcommand{\\Bold}[1]{\\mathbf{#1}}\\verb|cosPhi=| 0.716641048512131</script></html>"
      ],
      "text/plain": [
       "'cosPhi=' 0.716641048512131"
      ]
     },
     "metadata": {},
     "output_type": "display_data"
    },
    {
     "data": {
      "text/html": [
       "<html><script type=\"math/tex; mode=display\">\\newcommand{\\Bold}[1]{\\mathbf{#1}}\\verb|v=| \\left(\\begin{array}{r}\n",
       "0.000000000000000 \\\\\n",
       "0.0766964988847370 \\\\\n",
       "0.997054485501582 \\\\\n",
       "0.000000000000000\n",
       "\\end{array}\\right)</script></html>"
      ],
      "text/plain": [
       "'v=' [ 0.000000000000000]\n",
       "[0.0766964988847370]\n",
       "[ 0.997054485501582]\n",
       "[ 0.000000000000000]"
      ]
     },
     "metadata": {},
     "output_type": "display_data"
    },
    {
     "data": {
      "text/html": [
       "<html><script type=\"math/tex; mode=display\">\\newcommand{\\Bold}[1]{\\mathbf{#1}}\\verb|r=| \\left(\\begin{array}{r}\n",
       "-0.193422189214549 \\\\\n",
       "-0.847765339961640 \\\\\n",
       "-0.493843887356295 \\\\\n",
       "0.000000000000000\n",
       "\\end{array}\\right)</script></html>"
      ],
      "text/plain": [
       "'r=' [-0.193422189214549]\n",
       "[-0.847765339961640]\n",
       "[-0.493843887356295]\n",
       "[ 0.000000000000000]"
      ]
     },
     "metadata": {},
     "output_type": "display_data"
    },
    {
     "data": {
      "text/html": [
       "<html><script type=\"math/tex; mode=display\">\\newcommand{\\Bold}[1]{\\mathbf{#1}}\\verb|cosAlpha=| -0.557409896477018</script></html>"
      ],
      "text/plain": [
       "'cosAlpha=' -0.557409896477018"
      ]
     },
     "metadata": {},
     "output_type": "display_data"
    },
    {
     "data": {
      "text/html": [
       "<html><script type=\"math/tex; mode=display\">\\newcommand{\\Bold}[1]{\\mathbf{#1}}\\verb|IA=| \\left(\\begin{array}{r}\n",
       "0.0494500000000000 \\\\\n",
       "0.0399000000000000 \\\\\n",
       "0.0149000000000000\n",
       "\\end{array}\\right)</script></html>"
      ],
      "text/plain": [
       "'IA=' [0.0494500000000000]\n",
       "[0.0399000000000000]\n",
       "[0.0149000000000000]"
      ]
     },
     "metadata": {},
     "output_type": "display_data"
    },
    {
     "data": {
      "text/html": [
       "<html><script type=\"math/tex; mode=display\">\\newcommand{\\Bold}[1]{\\mathbf{#1}}\\verb|ID=| \\left(\\begin{array}{r}\n",
       "0.538656077703658 \\\\\n",
       "0.434628463101637 \\\\\n",
       "0.162304864667027\n",
       "\\end{array}\\right)</script></html>"
      ],
      "text/plain": [
       "'ID=' [0.538656077703658]\n",
       "[0.434628463101637]\n",
       "[0.162304864667027]"
      ]
     },
     "metadata": {},
     "output_type": "display_data"
    },
    {
     "data": {
      "text/html": [
       "<html><script type=\"math/tex; mode=display\">\\newcommand{\\Bold}[1]{\\mathbf{#1}}\\verb|IS=| \\left(\\begin{array}{r}\n",
       "0.000000000000000 \\\\\n",
       "0.000000000000000 \\\\\n",
       "0.000000000000000\n",
       "\\end{array}\\right)</script></html>"
      ],
      "text/plain": [
       "'IS=' [0.000000000000000]\n",
       "[0.000000000000000]\n",
       "[0.000000000000000]"
      ]
     },
     "metadata": {},
     "output_type": "display_data"
    },
    {
     "data": {
      "text/html": [
       "<html><script type=\"math/tex; mode=display\">\\newcommand{\\Bold}[1]{\\mathbf{#1}}\\verb|IV=| \\left(\\begin{array}{r}\n",
       "0.588106077703658 \\\\\n",
       "0.474528463101637 \\\\\n",
       "0.177204864667027\n",
       "\\end{array}\\right)</script></html>"
      ],
      "text/plain": [
       "'IV=' [0.588106077703658]\n",
       "[0.474528463101637]\n",
       "[0.177204864667027]"
      ]
     },
     "metadata": {},
     "output_type": "display_data"
    },
    {
     "data": {
      "text/plain": [
       "[149.967049814433]\n",
       "[121.004758090918]\n",
       "[45.1872404900920]"
      ]
     },
     "execution_count": 13,
     "metadata": {},
     "output_type": "execute_result"
    }
   ],
   "source": [
    "\n",
    "kA =matrix( [ [0.24725], [0.1995], [0.0745]])\n",
    "kD = matrix( [ [0.75164], [ 0.60648], [ 0.22648]])\n",
    "kS = matrix( [[0.628281], [ 0.555802], [ 0.36606]])\n",
    "F = matrix( [[-5], [-5], [5], [1]])\n",
    "e = matrix( [[0], [0], [0], [1]])\n",
    "IF = matrix( [[1], [ 1], [ 1]])\n",
    "LA = matrix( [[0.2], [ 0.2 ], [0.2]])\n",
    "Vnew = matrix([[1,-1,0,1.3397,1.0981,1.3397,0],[-1,0,1,-0.6603,0,0.3301,0],[-5,-5,-5,-5,-4.0981,-5,-3],[1,1,1,1,1,1,1]])\n",
    "show('Vnew=',Vnew)\n",
    "V1 = Vnew.matrix_from_columns([0])\n",
    "V7 = Vnew.matrix_from_columns([6])\n",
    "V2 = Vnew.matrix_from_columns([1])\n",
    "V = (V1+V7+V2)/3\n",
    "show('V=',V)\n",
    "n = produit_vectoriel(V7-V1,V2-V1)\n",
    "n = n/norm(n)\n",
    "#show('n=',n)\n",
    "p = 1\n",
    "ilumination_Phong(F,e,V,n,IF,LA,kA,kD,kS,p)"
   ]
  },
  {
   "cell_type": "markdown",
   "metadata": {},
   "source": [
    "### EXEMPLE GOURAUD:"
   ]
  },
  {
   "cell_type": "code",
   "execution_count": 14,
   "metadata": {},
   "outputs": [
    {
     "data": {
      "text/html": [
       "<html><script type=\"math/tex; mode=display\">\\newcommand{\\Bold}[1]{\\mathbf{#1}}\\verb|Vnew=| \\left(\\begin{array}{rrrrrrr}\n",
       "1.00000000000000 & -1.00000000000000 & 0.000000000000000 & 1.33970000000000 & 1.09810000000000 & 1.33970000000000 & 0.000000000000000 \\\\\n",
       "-1.00000000000000 & 0.000000000000000 & 1.00000000000000 & -0.660300000000000 & 0.000000000000000 & 0.330100000000000 & 0.000000000000000 \\\\\n",
       "-5.00000000000000 & -5.00000000000000 & -5.00000000000000 & -5.00000000000000 & -4.09810000000000 & -5.00000000000000 & -3.00000000000000 \\\\\n",
       "1.00000000000000 & 1.00000000000000 & 1.00000000000000 & 1.00000000000000 & 1.00000000000000 & 1.00000000000000 & 1.00000000000000\n",
       "\\end{array}\\right)</script></html>"
      ],
      "text/plain": [
       "'Vnew=' [  1.00000000000000  -1.00000000000000  0.000000000000000   1.33970000000000   1.09810000000000   1.33970000000000  0.000000000000000]\n",
       "[ -1.00000000000000  0.000000000000000   1.00000000000000 -0.660300000000000  0.000000000000000  0.330100000000000  0.000000000000000]\n",
       "[ -5.00000000000000  -5.00000000000000  -5.00000000000000  -5.00000000000000  -4.09810000000000  -5.00000000000000  -3.00000000000000]\n",
       "[  1.00000000000000   1.00000000000000   1.00000000000000   1.00000000000000   1.00000000000000   1.00000000000000   1.00000000000000]"
      ]
     },
     "metadata": {},
     "output_type": "display_data"
    },
    {
     "data": {
      "text/html": [
       "<html><script type=\"math/tex; mode=display\">\\newcommand{\\Bold}[1]{\\mathbf{#1}}\\verb|n=| \\left(\\begin{array}{r}\n",
       "0.281469992041391 \\\\\n",
       "-0.794554788296511 \\\\\n",
       "0.538012390168951 \\\\\n",
       "0.000000000000000\n",
       "\\end{array}\\right)</script></html>"
      ],
      "text/plain": [
       "'n=' [ 0.281469992041391]\n",
       "[-0.794554788296511]\n",
       "[ 0.538012390168951]\n",
       "[ 0.000000000000000]"
      ]
     },
     "metadata": {},
     "output_type": "display_data"
    },
    {
     "data": {
      "text/html": [
       "<html><script type=\"math/tex; mode=display\">\\newcommand{\\Bold}[1]{\\mathbf{#1}}\\verb|l=| \\left(\\begin{array}{r}\n",
       "-0.486664263392288 \\\\\n",
       "-0.324442842261525 \\\\\n",
       "0.811107105653813 \\\\\n",
       "0.000000000000000\n",
       "\\end{array}\\right)</script></html>"
      ],
      "text/plain": [
       "'l=' [-0.486664263392288]\n",
       "[-0.324442842261525]\n",
       "[ 0.811107105653813]\n",
       "[ 0.000000000000000]"
      ]
     },
     "metadata": {},
     "output_type": "display_data"
    },
    {
     "data": {
      "text/html": [
       "<html><script type=\"math/tex; mode=display\">\\newcommand{\\Bold}[1]{\\mathbf{#1}}\\verb|cosPhi=| 0.557191900099395</script></html>"
      ],
      "text/plain": [
       "'cosPhi=' 0.557191900099395"
      ]
     },
     "metadata": {},
     "output_type": "display_data"
    },
    {
     "data": {
      "text/html": [
       "<html><script type=\"math/tex; mode=display\">\\newcommand{\\Bold}[1]{\\mathbf{#1}}\\verb|v=| \\left(\\begin{array}{r}\n",
       "-0.192450089729875 \\\\\n",
       "0.192450089729875 \\\\\n",
       "0.962250448649376 \\\\\n",
       "0.000000000000000\n",
       "\\end{array}\\right)</script></html>"
      ],
      "text/plain": [
       "'v=' [-0.192450089729875]\n",
       "[ 0.192450089729875]\n",
       "[ 0.962250448649376]\n",
       "[ 0.000000000000000]"
      ]
     },
     "metadata": {},
     "output_type": "display_data"
    },
    {
     "data": {
      "text/html": [
       "<html><script type=\"math/tex; mode=display\">\\newcommand{\\Bold}[1]{\\mathbf{#1}}\\verb|r=| \\left(\\begin{array}{r}\n",
       "0.800329862765296 \\\\\n",
       "-0.560996142186486 \\\\\n",
       "-0.211554813743303 \\\\\n",
       "0.000000000000000\n",
       "\\end{array}\\right)</script></html>"
      ],
      "text/plain": [
       "'r=' [ 0.800329862765296]\n",
       "[-0.560996142186486]\n",
       "[-0.211554813743303]\n",
       "[ 0.000000000000000]"
      ]
     },
     "metadata": {},
     "output_type": "display_data"
    },
    {
     "data": {
      "text/html": [
       "<html><script type=\"math/tex; mode=display\">\\newcommand{\\Bold}[1]{\\mathbf{#1}}\\verb|cosAlpha=| -0.465556026243012</script></html>"
      ],
      "text/plain": [
       "'cosAlpha=' -0.465556026243012"
      ]
     },
     "metadata": {},
     "output_type": "display_data"
    },
    {
     "data": {
      "text/html": [
       "<html><script type=\"math/tex; mode=display\">\\newcommand{\\Bold}[1]{\\mathbf{#1}}\\verb|IA=| \\left(\\begin{array}{r}\n",
       "0.0494500000000000 \\\\\n",
       "0.0399000000000000 \\\\\n",
       "0.0149000000000000\n",
       "\\end{array}\\right)</script></html>"
      ],
      "text/plain": [
       "'IA=' [0.0494500000000000]\n",
       "[0.0399000000000000]\n",
       "[0.0149000000000000]"
      ]
     },
     "metadata": {},
     "output_type": "display_data"
    },
    {
     "data": {
      "text/html": [
       "<html><script type=\"math/tex; mode=display\">\\newcommand{\\Bold}[1]{\\mathbf{#1}}\\verb|ID=| \\left(\\begin{array}{r}\n",
       "0.418807719790709 \\\\\n",
       "0.337925743572281 \\\\\n",
       "0.126192821534511\n",
       "\\end{array}\\right)</script></html>"
      ],
      "text/plain": [
       "'ID=' [0.418807719790709]\n",
       "[0.337925743572281]\n",
       "[0.126192821534511]"
      ]
     },
     "metadata": {},
     "output_type": "display_data"
    },
    {
     "data": {
      "text/html": [
       "<html><script type=\"math/tex; mode=display\">\\newcommand{\\Bold}[1]{\\mathbf{#1}}\\verb|IS=| \\left(\\begin{array}{r}\n",
       "0.000000000000000 \\\\\n",
       "0.000000000000000 \\\\\n",
       "0.000000000000000\n",
       "\\end{array}\\right)</script></html>"
      ],
      "text/plain": [
       "'IS=' [0.000000000000000]\n",
       "[0.000000000000000]\n",
       "[0.000000000000000]"
      ]
     },
     "metadata": {},
     "output_type": "display_data"
    },
    {
     "data": {
      "text/html": [
       "<html><script type=\"math/tex; mode=display\">\\newcommand{\\Bold}[1]{\\mathbf{#1}}\\verb|IV=| \\left(\\begin{array}{r}\n",
       "0.468257719790709 \\\\\n",
       "0.377825743572281 \\\\\n",
       "0.141092821534511\n",
       "\\end{array}\\right)</script></html>"
      ],
      "text/plain": [
       "'IV=' [0.468257719790709]\n",
       "[0.377825743572281]\n",
       "[0.141092821534511]"
      ]
     },
     "metadata": {},
     "output_type": "display_data"
    },
    {
     "data": {
      "text/html": [
       "<html><script type=\"math/tex; mode=display\">\\newcommand{\\Bold}[1]{\\mathbf{#1}}\\verb|n=| \\left(\\begin{array}{r}\n",
       "-0.0762029385776303 \\\\\n",
       "0.0213629767078316 \\\\\n",
       "0.996863448712167 \\\\\n",
       "0.000000000000000\n",
       "\\end{array}\\right)</script></html>"
      ],
      "text/plain": [
       "'n=' [-0.0762029385776303]\n",
       "[ 0.0213629767078316]\n",
       "[  0.996863448712167]\n",
       "[  0.000000000000000]"
      ]
     },
     "metadata": {},
     "output_type": "display_data"
    },
    {
     "data": {
      "text/html": [
       "<html><script type=\"math/tex; mode=display\">\\newcommand{\\Bold}[1]{\\mathbf{#1}}\\verb|l=| \\left(\\begin{array}{r}\n",
       "-0.468292905790847 \\\\\n",
       "-0.468292905790847 \\\\\n",
       "0.749268649265355 \\\\\n",
       "0.000000000000000\n",
       "\\end{array}\\right)</script></html>"
      ],
      "text/plain": [
       "'l=' [-0.468292905790847]\n",
       "[-0.468292905790847]\n",
       "[ 0.749268649265355]\n",
       "[ 0.000000000000000]"
      ]
     },
     "metadata": {},
     "output_type": "display_data"
    },
    {
     "data": {
      "text/html": [
       "<html><script type=\"math/tex; mode=display\">\\newcommand{\\Bold}[1]{\\mathbf{#1}}\\verb|cosPhi=| 0.772599694816036</script></html>"
      ],
      "text/plain": [
       "'cosPhi=' 0.772599694816036"
      ]
     },
     "metadata": {},
     "output_type": "display_data"
    },
    {
     "data": {
      "text/html": [
       "<html><script type=\"math/tex; mode=display\">\\newcommand{\\Bold}[1]{\\mathbf{#1}}\\verb|v=| \\left(\\begin{array}{r}\n",
       "0.000000000000000 \\\\\n",
       "0.000000000000000 \\\\\n",
       "1.00000000000000 \\\\\n",
       "0.000000000000000\n",
       "\\end{array}\\right)</script></html>"
      ],
      "text/plain": [
       "'v=' [0.000000000000000]\n",
       "[0.000000000000000]\n",
       "[ 1.00000000000000]\n",
       "[0.000000000000000]"
      ]
     },
     "metadata": {},
     "output_type": "display_data"
    },
    {
     "data": {
      "text/html": [
       "<html><script type=\"math/tex; mode=display\">\\newcommand{\\Bold}[1]{\\mathbf{#1}}\\verb|r=| \\left(\\begin{array}{r}\n",
       "0.350544171612522 \\\\\n",
       "0.501302964360513 \\\\\n",
       "0.791084143231208 \\\\\n",
       "0.000000000000000\n",
       "\\end{array}\\right)</script></html>"
      ],
      "text/plain": [
       "'r=' [0.350544171612522]\n",
       "[0.501302964360513]\n",
       "[0.791084143231208]\n",
       "[0.000000000000000]"
      ]
     },
     "metadata": {},
     "output_type": "display_data"
    },
    {
     "data": {
      "text/html": [
       "<html><script type=\"math/tex; mode=display\">\\newcommand{\\Bold}[1]{\\mathbf{#1}}\\verb|cosAlpha=| 0.791084143231208</script></html>"
      ],
      "text/plain": [
       "'cosAlpha=' 0.791084143231208"
      ]
     },
     "metadata": {},
     "output_type": "display_data"
    },
    {
     "data": {
      "text/html": [
       "<html><script type=\"math/tex; mode=display\">\\newcommand{\\Bold}[1]{\\mathbf{#1}}\\verb|IA=| \\left(\\begin{array}{r}\n",
       "0.0494500000000000 \\\\\n",
       "0.0399000000000000 \\\\\n",
       "0.0149000000000000\n",
       "\\end{array}\\right)</script></html>"
      ],
      "text/plain": [
       "'IA=' [0.0494500000000000]\n",
       "[0.0399000000000000]\n",
       "[0.0149000000000000]"
      ]
     },
     "metadata": {},
     "output_type": "display_data"
    },
    {
     "data": {
      "text/html": [
       "<html><script type=\"math/tex; mode=display\">\\newcommand{\\Bold}[1]{\\mathbf{#1}}\\verb|ID=| \\left(\\begin{array}{r}\n",
       "0.580716834611525 \\\\\n",
       "0.468566262912030 \\\\\n",
       "0.174978378881936\n",
       "\\end{array}\\right)</script></html>"
      ],
      "text/plain": [
       "'ID=' [0.580716834611525]\n",
       "[0.468566262912030]\n",
       "[0.174978378881936]"
      ]
     },
     "metadata": {},
     "output_type": "display_data"
    },
    {
     "data": {
      "text/html": [
       "<html><script type=\"math/tex; mode=display\">\\newcommand{\\Bold}[1]{\\mathbf{#1}}\\verb|IS=| \\left(\\begin{array}{r}\n",
       "0.497023136593446 \\\\\n",
       "0.439686148976192 \\\\\n",
       "0.289584261471216\n",
       "\\end{array}\\right)</script></html>"
      ],
      "text/plain": [
       "'IS=' [0.497023136593446]\n",
       "[0.439686148976192]\n",
       "[0.289584261471216]"
      ]
     },
     "metadata": {},
     "output_type": "display_data"
    },
    {
     "data": {
      "text/html": [
       "<html><script type=\"math/tex; mode=display\">\\newcommand{\\Bold}[1]{\\mathbf{#1}}\\verb|IV=| \\left(\\begin{array}{r}\n",
       "1.12718997120497 \\\\\n",
       "0.948152411888221 \\\\\n",
       "0.479462640353152\n",
       "\\end{array}\\right)</script></html>"
      ],
      "text/plain": [
       "'IV=' [ 1.12718997120497]\n",
       "[0.948152411888221]\n",
       "[0.479462640353152]"
      ]
     },
     "metadata": {},
     "output_type": "display_data"
    },
    {
     "data": {
      "text/html": [
       "<html><script type=\"math/tex; mode=display\">\\newcommand{\\Bold}[1]{\\mathbf{#1}}\\verb|n=| \\left(\\begin{array}{r}\n",
       "-0.882181581691502 \\\\\n",
       "-0.164907765600501 \\\\\n",
       "0.441090790845751 \\\\\n",
       "0.000000000000000\n",
       "\\end{array}\\right)</script></html>"
      ],
      "text/plain": [
       "'n=' [-0.882181581691502]\n",
       "[-0.164907765600501]\n",
       "[ 0.441090790845751]\n",
       "[ 0.000000000000000]"
      ]
     },
     "metadata": {},
     "output_type": "display_data"
    },
    {
     "data": {
      "text/html": [
       "<html><script type=\"math/tex; mode=display\">\\newcommand{\\Bold}[1]{\\mathbf{#1}}\\verb|l=| \\left(\\begin{array}{r}\n",
       "-0.336860768426608 \\\\\n",
       "-0.421075960533260 \\\\\n",
       "0.842151921066519 \\\\\n",
       "0.000000000000000\n",
       "\\end{array}\\right)</script></html>"
      ],
      "text/plain": [
       "'l=' [-0.336860768426608]\n",
       "[-0.421075960533260]\n",
       "[ 0.842151921066519]\n",
       "[ 0.000000000000000]"
      ]
     },
     "metadata": {},
     "output_type": "display_data"
    },
    {
     "data": {
      "text/html": [
       "<html><script type=\"math/tex; mode=display\">\\newcommand{\\Bold}[1]{\\mathbf{#1}}\\verb|cosPhi=| 0.738076518175524</script></html>"
      ],
      "text/plain": [
       "'cosPhi=' 0.738076518175524"
      ]
     },
     "metadata": {},
     "output_type": "display_data"
    },
    {
     "data": {
      "text/html": [
       "<html><script type=\"math/tex; mode=display\">\\newcommand{\\Bold}[1]{\\mathbf{#1}}\\verb|v=| \\left(\\begin{array}{r}\n",
       "0.196116135138184 \\\\\n",
       "0.000000000000000 \\\\\n",
       "0.980580675690920 \\\\\n",
       "0.000000000000000\n",
       "\\end{array}\\right)</script></html>"
      ],
      "text/plain": [
       "'v=' [0.196116135138184]\n",
       "[0.000000000000000]\n",
       "[0.980580675690920]\n",
       "[0.000000000000000]"
      ]
     },
     "metadata": {},
     "output_type": "display_data"
    },
    {
     "data": {
      "text/html": [
       "<html><script type=\"math/tex; mode=display\">\\newcommand{\\Bold}[1]{\\mathbf{#1}}\\verb|r=| \\left(\\begin{array}{r}\n",
       "-0.965374252000272 \\\\\n",
       "0.177646861624213 \\\\\n",
       "-0.191034410853079 \\\\\n",
       "0.000000000000000\n",
       "\\end{array}\\right)</script></html>"
      ],
      "text/plain": [
       "'r=' [-0.965374252000272]\n",
       "[ 0.177646861624213]\n",
       "[-0.191034410853079]\n",
       "[ 0.000000000000000]"
      ]
     },
     "metadata": {},
     "output_type": "display_data"
    },
    {
     "data": {
      "text/html": [
       "<html><script type=\"math/tex; mode=display\">\\newcommand{\\Bold}[1]{\\mathbf{#1}}\\verb|cosAlpha=| -0.376650118938738</script></html>"
      ],
      "text/plain": [
       "'cosAlpha=' -0.376650118938738"
      ]
     },
     "metadata": {},
     "output_type": "display_data"
    },
    {
     "data": {
      "text/html": [
       "<html><script type=\"math/tex; mode=display\">\\newcommand{\\Bold}[1]{\\mathbf{#1}}\\verb|IA=| \\left(\\begin{array}{r}\n",
       "0.0494500000000000 \\\\\n",
       "0.0399000000000000 \\\\\n",
       "0.0149000000000000\n",
       "\\end{array}\\right)</script></html>"
      ],
      "text/plain": [
       "'IA=' [0.0494500000000000]\n",
       "[0.0399000000000000]\n",
       "[0.0149000000000000]"
      ]
     },
     "metadata": {},
     "output_type": "display_data"
    },
    {
     "data": {
      "text/html": [
       "<html><script type=\"math/tex; mode=display\">\\newcommand{\\Bold}[1]{\\mathbf{#1}}\\verb|ID=| \\left(\\begin{array}{r}\n",
       "0.554767834121450 \\\\\n",
       "0.447628646743092 \\\\\n",
       "0.167159569836393\n",
       "\\end{array}\\right)</script></html>"
      ],
      "text/plain": [
       "'ID=' [0.554767834121450]\n",
       "[0.447628646743092]\n",
       "[0.167159569836393]"
      ]
     },
     "metadata": {},
     "output_type": "display_data"
    },
    {
     "data": {
      "text/html": [
       "<html><script type=\"math/tex; mode=display\">\\newcommand{\\Bold}[1]{\\mathbf{#1}}\\verb|IS=| \\left(\\begin{array}{r}\n",
       "0.000000000000000 \\\\\n",
       "0.000000000000000 \\\\\n",
       "0.000000000000000\n",
       "\\end{array}\\right)</script></html>"
      ],
      "text/plain": [
       "'IS=' [0.000000000000000]\n",
       "[0.000000000000000]\n",
       "[0.000000000000000]"
      ]
     },
     "metadata": {},
     "output_type": "display_data"
    },
    {
     "data": {
      "text/html": [
       "<html><script type=\"math/tex; mode=display\">\\newcommand{\\Bold}[1]{\\mathbf{#1}}\\verb|IV=| \\left(\\begin{array}{r}\n",
       "0.604217834121450 \\\\\n",
       "0.487528646743092 \\\\\n",
       "0.182059569836393\n",
       "\\end{array}\\right)</script></html>"
      ],
      "text/plain": [
       "'IV=' [0.604217834121450]\n",
       "[0.487528646743092]\n",
       "[0.182059569836393]"
      ]
     },
     "metadata": {},
     "output_type": "display_data"
    },
    {
     "data": {
      "text/html": [
       "<html><script type=\"math/tex; mode=display\">\\newcommand{\\Bold}[1]{\\mathbf{#1}}\\verb|IV1=| \\left(\\begin{array}{r}\n",
       "119.405718546631 \\\\\n",
       "96.3455646109317 \\\\\n",
       "35.9786694913003\n",
       "\\end{array}\\right)</script></html>"
      ],
      "text/plain": [
       "'IV1=' [119.405718546631]\n",
       "[96.3455646109317]\n",
       "[35.9786694913003]"
      ]
     },
     "metadata": {},
     "output_type": "display_data"
    },
    {
     "data": {
      "text/html": [
       "<html><script type=\"math/tex; mode=display\">\\newcommand{\\Bold}[1]{\\mathbf{#1}}\\verb|IV7=| \\left(\\begin{array}{r}\n",
       "287.433442657268 \\\\\n",
       "241.778865031496 \\\\\n",
       "122.262973290054\n",
       "\\end{array}\\right)</script></html>"
      ],
      "text/plain": [
       "'IV7=' [287.433442657268]\n",
       "[241.778865031496]\n",
       "[122.262973290054]"
      ]
     },
     "metadata": {},
     "output_type": "display_data"
    },
    {
     "data": {
      "text/html": [
       "<html><script type=\"math/tex; mode=display\">\\newcommand{\\Bold}[1]{\\mathbf{#1}}\\verb|IV2=| \\left(\\begin{array}{r}\n",
       "154.075547700970 \\\\\n",
       "124.319804919488 \\\\\n",
       "46.4251903082801\n",
       "\\end{array}\\right)</script></html>"
      ],
      "text/plain": [
       "'IV2=' [154.075547700970]\n",
       "[124.319804919488]\n",
       "[46.4251903082801]"
      ]
     },
     "metadata": {},
     "output_type": "display_data"
    },
    {
     "data": {
      "text/html": [
       "<html><script type=\"math/tex; mode=display\">\\newcommand{\\Bold}[1]{\\mathbf{#1}}\\verb|IB=| \\left(\\begin{array}{r}\n",
       "186.971569634956 \\\\\n",
       "154.148078187305 \\\\\n",
       "68.2222776965447\n",
       "\\end{array}\\right)</script></html>"
      ],
      "text/plain": [
       "'IB=' [186.971569634956]\n",
       "[154.148078187305]\n",
       "[68.2222776965447]"
      ]
     },
     "metadata": {},
     "output_type": "display_data"
    }
   ],
   "source": [
    "\n",
    "kA =matrix( [ [0.24725], [0.1995], [0.0745]])\n",
    "kD = matrix( [ [0.75164], [ 0.60648], [ 0.22648]])\n",
    "kS = matrix( [[0.628281], [ 0.555802], [ 0.36606]])\n",
    "F = matrix( [[-5], [-5], [5], [1]])\n",
    "e = matrix( [[0], [0], [0], [1]])\n",
    "IF = matrix( [[1], [ 1], [ 1]])\n",
    "LA = matrix( [[0.2], [ 0.2 ], [0.2]])\n",
    "Vnew = matrix([[1,-1,0,1.3397,1.0981,1.3397,0],[-1,0,1,-0.6603,0,0.3301,0],[-5,-5,-5,-5,-4.0981,-5,-3],[1,1,1,1,1,1,1]])\n",
    "show('Vnew=',Vnew)\n",
    "n1 = normal_au_plan(Vnew.matrix_from_columns([0,6,1]))+normal_au_plan(Vnew.matrix_from_columns([0,3,4]))+normal_au_plan(Vnew.matrix_from_columns([0,4,6]))\n",
    "n1 = n1/norm(n1)\n",
    "n7 = normal_au_plan(Vnew.matrix_from_columns([6,2,1]))+normal_au_plan(Vnew.matrix_from_columns([6,1,0]))+normal_au_plan(Vnew.matrix_from_columns([6,0,4]))+normal_au_plan(Vnew.matrix_from_columns([6,4,2]))\n",
    "n7 = n7/norm(n7)\n",
    "n2 = normal_au_plan(Vnew.matrix_from_columns([1,6,2]))+normal_au_plan(Vnew.matrix_from_columns([1,0,6]))\n",
    "n2 = n2/norm(n2)\n",
    "p=1\n",
    "IV1 = ilumination_Phong(F,e,V1,n1,IF,LA,kA,kD,kS,p)\n",
    "IV7 = ilumination_Phong(F,e,V7,n7,IF,LA,kA,kD,kS,p)\n",
    "IV2 = ilumination_Phong(F,e,V2,n2,IF,LA,kA,kD,kS,p)\n",
    "\n",
    "IB = 1/3*IV1+1/3*IV7+1/3*IV2\n",
    "\n",
    "show('IV1=',IV1)\n",
    "show('IV7=',IV7)\n",
    "show('IV2=',IV2)\n",
    "show('IB=',IB)"
   ]
  },
  {
   "cell_type": "markdown",
   "metadata": {},
   "source": [
    "### EXEMPLE COORDS BARICENTRIQUES"
   ]
  },
  {
   "cell_type": "code",
   "execution_count": 15,
   "metadata": {},
   "outputs": [
    {
     "data": {
      "text/html": [
       "<html><script type=\"math/tex; mode=display\">\\newcommand{\\Bold}[1]{\\mathbf{#1}}\\left(1.58333333333333, -0.666666666666667, 0.0833333333333333\\right)</script></html>"
      ],
      "text/plain": [
       "(1.58333333333333, -0.666666666666667, 0.0833333333333333)"
      ]
     },
     "metadata": {},
     "output_type": "display_data"
    },
    {
     "data": {
      "text/html": [
       "<html><script type=\"math/tex; mode=display\">\\newcommand{\\Bold}[1]{\\mathbf{#1}}\\left(0.166666666666667, 0.666666666666667, 0.166666666666667\\right)</script></html>"
      ],
      "text/plain": [
       "(0.166666666666667, 0.666666666666667, 0.166666666666667)"
      ]
     },
     "metadata": {},
     "output_type": "display_data"
    },
    {
     "data": {
      "text/plain": [
       "0.479100000000000"
      ]
     },
     "execution_count": 15,
     "metadata": {},
     "output_type": "execute_result"
    }
   ],
   "source": [
    "A=matrix([[20],[30],[0.82],[1]])\n",
    "B=matrix([[40],[60],[0.16],[1]])\n",
    "C=matrix([[60],[30],[0.29],[1]])\n",
    "P=matrix([[10],[10],[1]])\n",
    "show(coordonnees_baricentre(A,B,C,P))\n",
    "P=matrix([[40],[50],[1]])\n",
    "show(coordonnees_baricentre(A,B,C,P))\n",
    "composante_profendeur(A,B,C,P)\n",
    "0.16*0.82+0.67*0.16+0.83*0.29"
   ]
  },
  {
   "cell_type": "markdown",
   "metadata": {},
   "source": [
    "### Exemple viewFrustum: "
   ]
  },
  {
   "cell_type": "code",
   "execution_count": 16,
   "metadata": {},
   "outputs": [
    {
     "data": {
      "text/html": [
       "<html><script type=\"math/tex; mode=display\">\\newcommand{\\Bold}[1]{\\mathbf{#1}}\\verb|V=| \\left(\\begin{array}{rrrrr}\n",
       "1 & -1 & 0 & 2 & 0 \\\\\n",
       "-1 & 0 & 1 & 0 & 0 \\\\\n",
       "0 & 0 & 0 & 0 & 2 \\\\\n",
       "1 & 1 & 1 & 1 & 1\n",
       "\\end{array}\\right)</script></html>"
      ],
      "text/plain": [
       "'V=' [ 1 -1  0  2  0]\n",
       "[-1  0  1  0  0]\n",
       "[ 0  0  0  0  2]\n",
       "[ 1  1  1  1  1]"
      ]
     },
     "metadata": {},
     "output_type": "display_data"
    }
   ],
   "source": [
    "V = matrix([[ 1, -1, 0, 2, 0],[-1,  0, 1, 0, 0],[ 0,  0, 0, 0, 2],[1,  1, 1, 1, 1]])   \n",
    "show('V=',V)\n",
    "\n",
    "C =matrix([[0, 1 ,2],[ 2,3,0],[0,3,4],[2,4,3],[1,4,2],[0,4,1]])\n",
    "\n",
    "    \n",
    "e = matrix([[0],[0],[5],[1]])\n",
    "c = matrix([[0],[0],[2],[1]])\n",
    "up = matrix([[0],[1],[0],[0]])\n",
    "\n",
    "near = -1\n",
    "far = -8\n",
    "\n",
    "FOV = 100\n",
    "nx=600\n",
    "ny=400"
   ]
  },
  {
   "cell_type": "code",
   "execution_count": 17,
   "metadata": {},
   "outputs": [
    {
     "data": {
      "text/html": [
       "<html><script type=\"math/tex; mode=display\">\\newcommand{\\Bold}[1]{\\mathbf{#1}}\\verb|Mcam=| \\left(\\begin{array}{rrrr}\n",
       "1.0 & 0.0 & 0.0 & -0.0 \\\\\n",
       "0.0 & 1.0 & 0.0 & -0.0 \\\\\n",
       "0.0 & 0.0 & 1.0 & -5.0 \\\\\n",
       "0.0 & 0.0 & 0.0 & 1.0\n",
       "\\end{array}\\right)</script></html>"
      ],
      "text/plain": [
       "'Mcam=' [ 1.0  0.0  0.0 -0.0]\n",
       "[ 0.0  1.0  0.0 -0.0]\n",
       "[ 0.0  0.0  1.0 -5.0]\n",
       "[ 0.0  0.0  0.0  1.0]"
      ]
     },
     "metadata": {},
     "output_type": "display_data"
    },
    {
     "data": {
      "text/html": [
       "<html><script type=\"math/tex; mode=display\">\\newcommand{\\Bold}[1]{\\mathbf{#1}}\\verb|Vcam=| \\left(\\begin{array}{rrrrr}\n",
       "1.0 & -1.0 & 0.0 & 2.0 & 0.0 \\\\\n",
       "-1.0 & 0.0 & 1.0 & 0.0 & 0.0 \\\\\n",
       "-5.0 & -5.0 & -5.0 & -5.0 & -3.0 \\\\\n",
       "1.0 & 1.0 & 1.0 & 1.0 & 1.0\n",
       "\\end{array}\\right)</script></html>"
      ],
      "text/plain": [
       "'Vcam=' [ 1.0 -1.0  0.0  2.0  0.0]\n",
       "[-1.0  0.0  1.0  0.0  0.0]\n",
       "[-5.0 -5.0 -5.0 -5.0 -3.0]\n",
       "[ 1.0  1.0  1.0  1.0  1.0]"
      ]
     },
     "metadata": {},
     "output_type": "display_data"
    },
    {
     "data": {
      "text/html": [
       "<html><script type=\"math/tex; mode=display\">\\newcommand{\\Bold}[1]{\\mathbf{#1}}\\verb|Mpersp=| \\left(\\begin{array}{rrrr}\n",
       "-1 & 0 & 0 & 0 \\\\\n",
       "0 & -1 & 0 & 0 \\\\\n",
       "0 & 0 & -9 & -8 \\\\\n",
       "0 & 0 & 1 & 0\n",
       "\\end{array}\\right)</script></html>"
      ],
      "text/plain": [
       "'Mpersp=' [-1  0  0  0]\n",
       "[ 0 -1  0  0]\n",
       "[ 0  0 -9 -8]\n",
       "[ 0  0  1  0]"
      ]
     },
     "metadata": {},
     "output_type": "display_data"
    },
    {
     "data": {
      "text/html": [
       "<html><script type=\"math/tex; mode=display\">\\newcommand{\\Bold}[1]{\\mathbf{#1}}\\verb|Morth=| \\left(\\begin{array}{rrrr}\n",
       "0.839099631177280 & 0.000000000000000 & 0.000000000000000 & 0.000000000000000 \\\\\n",
       "0.000000000000000 & 0.839099631177280 & 0.000000000000000 & 0.000000000000000 \\\\\n",
       "0.000000000000000 & 0.000000000000000 & 0.285714285714286 & 1.28571428571429 \\\\\n",
       "0.000000000000000 & 0.000000000000000 & 0.000000000000000 & 1.00000000000000\n",
       "\\end{array}\\right)</script></html>"
      ],
      "text/plain": [
       "'Morth=' [0.839099631177280 0.000000000000000 0.000000000000000 0.000000000000000]\n",
       "[0.000000000000000 0.839099631177280 0.000000000000000 0.000000000000000]\n",
       "[0.000000000000000 0.000000000000000 0.285714285714286  1.28571428571429]\n",
       "[0.000000000000000 0.000000000000000 0.000000000000000  1.00000000000000]"
      ]
     },
     "metadata": {},
     "output_type": "display_data"
    }
   ],
   "source": [
    "r = abs(near)*tan((FOV*pi/180)/2)\n",
    "l = -r\n",
    "top = r\n",
    "b = -r\n",
    "Mcam = transf_camera(e,c,up)\n",
    "show('Mcam=',Mcam)\n",
    "Vcam = Mcam*V\n",
    "show('Vcam=',Vcam)\n",
    "Mpersp=transf_persp(near,far)\n",
    "show('Mpersp=',Mpersp)\n",
    "Morth=transf_morth(l,r,b,top,near,far)\n",
    "show('Morth=',Morth.n())\n",
    "Mvp=transf_vp(nx,ny)"
   ]
  },
  {
   "cell_type": "markdown",
   "metadata": {},
   "source": [
    "#### Supposons que FOV=100 degres, montrons que l'objet et totalement contenu dans le view frustum."
   ]
  },
  {
   "cell_type": "code",
   "execution_count": 18,
   "metadata": {},
   "outputs": [
    {
     "data": {
      "text/html": [
       "<html><script type=\"math/tex; mode=display\">\\newcommand{\\Bold}[1]{\\mathbf{#1}}\\verb|rayon|\\phantom{\\verb!x!}\\verb|de|\\phantom{\\verb!x!}\\verb|la|\\phantom{\\verb!x!}\\verb|sphere=| 1.64924225024706</script></html>"
      ],
      "text/plain": [
       "'rayon de la sphere=' 1.64924225024706"
      ]
     },
     "metadata": {},
     "output_type": "display_data"
    },
    {
     "data": {
      "text/html": [
       "<html><script type=\"math/tex; mode=display\">\\newcommand{\\Bold}[1]{\\mathbf{#1}}\\verb|distance|\\phantom{\\verb!x!}\\verb|plan|\\phantom{\\verb!x!}\\verb|left=| 3.78091948222192</script></html>"
      ],
      "text/plain": [
       "'distance plan left=' 3.78091948222192"
      ]
     },
     "metadata": {},
     "output_type": "display_data"
    },
    {
     "data": {
      "text/html": [
       "<html><script type=\"math/tex; mode=display\">\\newcommand{\\Bold}[1]{\\mathbf{#1}}\\verb|distance|\\phantom{\\verb!x!}\\verb|plan|\\phantom{\\verb!x!}\\verb|right=| 3.26668939447268</script></html>"
      ],
      "text/plain": [
       "'distance plan right=' 3.26668939447268"
      ]
     },
     "metadata": {},
     "output_type": "display_data"
    },
    {
     "data": {
      "text/html": [
       "<html><script type=\"math/tex; mode=display\">\\newcommand{\\Bold}[1]{\\mathbf{#1}}\\verb|distance|\\phantom{\\verb!x!}\\verb|plan|\\phantom{\\verb!x!}\\verb|bottom=| 3.52380443834730</script></html>"
      ],
      "text/plain": [
       "'distance plan bottom=' 3.52380443834730"
      ]
     },
     "metadata": {},
     "output_type": "display_data"
    },
    {
     "data": {
      "text/html": [
       "<html><script type=\"math/tex; mode=display\">\\newcommand{\\Bold}[1]{\\mathbf{#1}}\\verb|distance|\\phantom{\\verb!x!}\\verb|plan|\\phantom{\\verb!x!}\\verb|top=| 3.52380443834730</script></html>"
      ],
      "text/plain": [
       "'distance plan top=' 3.52380443834730"
      ]
     },
     "metadata": {},
     "output_type": "display_data"
    },
    {
     "data": {
      "text/html": [
       "<html><script type=\"math/tex; mode=display\">\\newcommand{\\Bold}[1]{\\mathbf{#1}}\\verb|distance|\\phantom{\\verb!x!}\\verb|plan|\\phantom{\\verb!x!}\\verb|near=| 3.60000000000000</script></html>"
      ],
      "text/plain": [
       "'distance plan near=' 3.60000000000000"
      ]
     },
     "metadata": {},
     "output_type": "display_data"
    },
    {
     "data": {
      "text/html": [
       "<html><script type=\"math/tex; mode=display\">\\newcommand{\\Bold}[1]{\\mathbf{#1}}\\verb|distance|\\phantom{\\verb!x!}\\verb|plan|\\phantom{\\verb!x!}\\verb|far=| 3.40000000000000</script></html>"
      ],
      "text/plain": [
       "'distance plan far=' 3.40000000000000"
      ]
     },
     "metadata": {},
     "output_type": "display_data"
    },
    {
     "data": {
      "text/html": [
       "<html><script type=\"math/tex; mode=display\">\\newcommand{\\Bold}[1]{\\mathbf{#1}}\\verb|coordonnees|\\phantom{\\verb!x!}\\verb|du|\\phantom{\\verb!x!}\\verb|centre|\\phantom{\\verb!x!}\\verb|de|\\phantom{\\verb!x!}\\verb|la|\\phantom{\\verb!x!}\\verb|sphere|\\phantom{\\verb!x!}\\verb|dans|\\phantom{\\verb!x!}\\verb|le|\\phantom{\\verb!x!}\\verb|colume|\\phantom{\\verb!x!}\\verb|canonique=| \\left(\\begin{array}{r}\n",
       "0.0729651853197635 \\\\\n",
       "0.000000000000000 \\\\\n",
       "-0.788819875776398 \\\\\n",
       "1.00000000000000\n",
       "\\end{array}\\right)</script></html>"
      ],
      "text/plain": [
       "'coordonnees du centre de la sphere dans le colume canonique=' [0.0729651853197635]\n",
       "[ 0.000000000000000]\n",
       "[-0.788819875776398]\n",
       "[  1.00000000000000]"
      ]
     },
     "metadata": {},
     "output_type": "display_data"
    },
    {
     "data": {
      "text/html": [
       "\n",
       "<iframe srcdoc=\"<!DOCTYPE html>\n",
       "<html>\n",
       "<head>\n",
       "<title></title>\n",
       "<meta charset=&quot;utf-8&quot;>\n",
       "<meta name=viewport content=&quot;width=device-width, user-scalable=no, minimum-scale=1.0, maximum-scale=1.0&quot;>\n",
       "<style>\n",
       "\n",
       "    body { margin: 0px; overflow: hidden; }\n",
       "\n",
       "    #menu-container { position: absolute; bottom: 30px; right: 40px; cursor: default; }\n",
       "\n",
       "    #menu-message { position: absolute; bottom: 0px; right: 0px; white-space: nowrap;\n",
       "                    display: none; background-color: #F5F5F5; padding: 10px; }\n",
       "\n",
       "    #menu-content { position: absolute; bottom: 0px; right: 0px;\n",
       "                    display: none; background-color: #F5F5F5; border-bottom: 1px solid black;\n",
       "                    border-right: 1px solid black; border-left: 1px solid black; }\n",
       "\n",
       "    #menu-content div { border-top: 1px solid black; padding: 10px; white-space: nowrap; }\n",
       "\n",
       "    #menu-content div:hover { background-color: #FEFEFE;; }\n",
       "  \n",
       "</style>\n",
       "</head>\n",
       "\n",
       "<body>\n",
       "\n",
       "<script src=&quot;/nbextensions/threejs/build/three.min.js&quot;></script>\n",
       "<script src=&quot;/nbextensions/threejs/examples/js/controls/OrbitControls.js&quot;></script>\n",
       "<script>\n",
       "  if ( !window.THREE ) document.write(' \\\n",
       "<script src=&quot;https://cdn.jsdelivr.net/gh/mrdoob/three.js@r110/build/three.min.js&quot;><\\/script> \\\n",
       "<script src=&quot;https://cdn.jsdelivr.net/gh/mrdoob/three.js@r110/examples/js/controls/OrbitControls.js&quot;><\\/script> \\\n",
       "            ');\n",
       "</script>\n",
       "        \n",
       "<script>\n",
       "\n",
       "    var scene = new THREE.Scene();\n",
       "\n",
       "    var renderer = new THREE.WebGLRenderer( { antialias: true, preserveDrawingBuffer: true } );\n",
       "    renderer.setPixelRatio( window.devicePixelRatio );\n",
       "    renderer.setSize( window.innerWidth, window.innerHeight );\n",
       "    renderer.setClearColor( 0xffffff, 1 );\n",
       "    document.body.appendChild( renderer.domElement );\n",
       "\n",
       "    var options = {&quot;projection&quot;: &quot;perspective&quot;, &quot;axesLabels&quot;: [&quot;x&quot;, &quot;y&quot;, &quot;z&quot;], &quot;frame&quot;: true, &quot;axes&quot;: false, &quot;aspectRatio&quot;: [1.0, 1.0, 1.0], &quot;decimals&quot;: 2};\n",
       "\n",
       "    // When animations are supported by the viewer, the value 'false'\n",
       "    // will be replaced with an option set in Python by the user\n",
       "    var animate = false; // options.animate;\n",
       "\n",
       "    var b = [{&quot;x&quot;:-9.53402874075, &quot;y&quot;:-9.53402874075, &quot;z&quot;:-8.0}, {&quot;x&quot;:9.53402874075, &quot;y&quot;:9.53402874075, &quot;z&quot;:-1.0}]; // bounds\n",
       "\n",
       "    if ( b[0].x === b[1].x ) {\n",
       "        b[0].x -= 1;\n",
       "        b[1].x += 1;\n",
       "    }\n",
       "    if ( b[0].y === b[1].y ) {\n",
       "        b[0].y -= 1;\n",
       "        b[1].y += 1;\n",
       "    }\n",
       "    if ( b[0].z === b[1].z ) {\n",
       "        b[0].z -= 1;\n",
       "        b[1].z += 1;\n",
       "    }\n",
       "\n",
       "    var rRange = Math.sqrt( Math.pow( b[1].x - b[0].x, 2 )\n",
       "                            + Math.pow( b[1].y - b[0].y, 2 ) );\n",
       "    var xRange = b[1].x - b[0].x;\n",
       "    var yRange = b[1].y - b[0].y;\n",
       "    var zRange = b[1].z - b[0].z;\n",
       "\n",
       "    var ar = options.aspectRatio;\n",
       "    var a = [ ar[0], ar[1], ar[2] ]; // aspect multipliers\n",
       "    var autoAspect = 2.5;\n",
       "    if ( zRange > autoAspect * rRange && a[2] === 1 ) a[2] = autoAspect * rRange / zRange;\n",
       "\n",
       "    // Distance from (xMid,yMid,zMid) to any corner of the bounding box, after applying aspectRatio\n",
       "    var midToCorner = Math.sqrt( a[0]*a[0]*xRange*xRange + a[1]*a[1]*yRange*yRange + a[2]*a[2]*zRange*zRange ) / 2;\n",
       "\n",
       "    var xMid = ( b[0].x + b[1].x ) / 2;\n",
       "    var yMid = ( b[0].y + b[1].y ) / 2;\n",
       "    var zMid = ( b[0].z + b[1].z ) / 2;\n",
       "\n",
       "    var box = new THREE.Geometry();\n",
       "    box.vertices.push( new THREE.Vector3( a[0]*b[0].x, a[1]*b[0].y, a[2]*b[0].z ) );\n",
       "    box.vertices.push( new THREE.Vector3( a[0]*b[1].x, a[1]*b[1].y, a[2]*b[1].z ) );\n",
       "    var boxMesh = new THREE.Line( box );\n",
       "    if ( options.frame ) scene.add( new THREE.BoxHelper( boxMesh, 'black' ) );\n",
       "\n",
       "    if ( options.axesLabels ) {\n",
       "\n",
       "        var d = options.decimals; // decimals\n",
       "        var offsetRatio = 0.1;\n",
       "        var al = options.axesLabels;\n",
       "\n",
       "        var offset = offsetRatio * a[1]*( b[1].y - b[0].y );\n",
       "        var xm = xMid.toFixed(d);\n",
       "        if ( /^-0.?0*$/.test(xm) ) xm = xm.substr(1);\n",
       "        addLabel( al[0] + '=' + xm, a[0]*xMid, a[1]*b[1].y+offset, a[2]*b[0].z );\n",
       "        addLabel( ( b[0].x ).toFixed(d), a[0]*b[0].x, a[1]*b[1].y+offset, a[2]*b[0].z );\n",
       "        addLabel( ( b[1].x ).toFixed(d), a[0]*b[1].x, a[1]*b[1].y+offset, a[2]*b[0].z );\n",
       "\n",
       "        var offset = offsetRatio * a[0]*( b[1].x - b[0].x );\n",
       "        var ym = yMid.toFixed(d);\n",
       "        if ( /^-0.?0*$/.test(ym) ) ym = ym.substr(1);\n",
       "        addLabel( al[1] + '=' + ym, a[0]*b[1].x+offset, a[1]*yMid, a[2]*b[0].z );\n",
       "        addLabel( ( b[0].y ).toFixed(d), a[0]*b[1].x+offset, a[1]*b[0].y, a[2]*b[0].z );\n",
       "        addLabel( ( b[1].y ).toFixed(d), a[0]*b[1].x+offset, a[1]*b[1].y, a[2]*b[0].z );\n",
       "\n",
       "        var offset = offsetRatio * a[1]*( b[1].y - b[0].y );\n",
       "        var zm = zMid.toFixed(d);\n",
       "        if ( /^-0.?0*$/.test(zm) ) zm = zm.substr(1);\n",
       "        addLabel( al[2] + '=' + zm, a[0]*b[1].x, a[1]*b[0].y-offset, a[2]*zMid );\n",
       "        addLabel( ( b[0].z ).toFixed(d), a[0]*b[1].x, a[1]*b[0].y-offset, a[2]*b[0].z );\n",
       "        addLabel( ( b[1].z ).toFixed(d), a[0]*b[1].x, a[1]*b[0].y-offset, a[2]*b[1].z );\n",
       "\n",
       "    }\n",
       "\n",
       "    function addLabel( text, x, y, z, color='black', fontsize=14  ) {\n",
       "\n",
       "        var canvas = document.createElement( 'canvas' );\n",
       "        var pixelRatio = Math.round( window.devicePixelRatio );\n",
       "        canvas.width = 128 * pixelRatio;\n",
       "        canvas.height = 32 * pixelRatio; // powers of two\n",
       "        canvas.style.width = '128px';\n",
       "        canvas.style.height = '32px';\n",
       "\n",
       "        var context = canvas.getContext( '2d' );\n",
       "        context.scale( pixelRatio, pixelRatio );\n",
       "        context.fillStyle = color;\n",
       "        context.font = fontsize + 'px monospace';\n",
       "        context.textAlign = 'center';\n",
       "        context.textBaseline = 'middle';\n",
       "        context.fillText( text, canvas.width/2/pixelRatio, canvas.height/2/pixelRatio );\n",
       "\n",
       "        var texture = new THREE.Texture( canvas );\n",
       "        texture.needsUpdate = true;\n",
       "\n",
       "        var sprite = new THREE.Sprite( new THREE.SpriteMaterial( { map: texture } ) );\n",
       "        sprite.position.set( x, y, z );\n",
       "\n",
       "        // Set the initial scale based on plot size to accomodate orthographic projection.\n",
       "        // For other projections, the scale will get reset each frame based on camera distance.\n",
       "        var scale = midToCorner/2;\n",
       "        sprite.scale.set( scale, scale*.25, 1 ); // ratio of canvas width to height\n",
       "\n",
       "        scene.add( sprite );\n",
       "\n",
       "    }\n",
       "\n",
       "    if ( options.axes ) scene.add( new THREE.AxesHelper( Math.min( a[0]*b[1].x, a[1]*b[1].y, a[2]*b[1].z ) ) );\n",
       "\n",
       "    var camera = createCamera();\n",
       "    camera.up.set( 0, 0, 1 );\n",
       "    camera.position.set( a[0]*(xMid+xRange), a[1]*(yMid+yRange), a[2]*(zMid+zRange) );\n",
       "\n",
       "    function createCamera() {\n",
       "\n",
       "        var aspect = window.innerWidth / window.innerHeight;\n",
       "\n",
       "        if ( options.projection === 'orthographic' ) {\n",
       "            var camera = new THREE.OrthographicCamera( -1, 1, 1, -1, -1000, 1000 );\n",
       "            updateCameraAspect( camera, aspect );\n",
       "            return camera;\n",
       "        }\n",
       "\n",
       "        return new THREE.PerspectiveCamera( 45, aspect, 0.1, 1000 );\n",
       "\n",
       "    }\n",
       "\n",
       "    function updateCameraAspect( camera, aspect ) {\n",
       "\n",
       "        if ( camera.isPerspectiveCamera ) {\n",
       "            camera.aspect = aspect;\n",
       "        } else if ( camera.isOrthographicCamera ) {\n",
       "            // Fit the camera frustum to the bounding box's diagonal so that the entire plot fits\n",
       "            // within at the default zoom level and camera position.\n",
       "            if ( aspect > 1 ) { // Wide window\n",
       "                camera.top = midToCorner;\n",
       "                camera.right = midToCorner * aspect;\n",
       "            } else { // Tall or square window\n",
       "                camera.top = midToCorner / aspect;\n",
       "                camera.right = midToCorner;\n",
       "            }\n",
       "            camera.bottom = -camera.top;\n",
       "            camera.left = -camera.right;\n",
       "        }\n",
       "\n",
       "        camera.updateProjectionMatrix();\n",
       "\n",
       "    }\n",
       "\n",
       "    var lights = [{&quot;x&quot;:-5, &quot;y&quot;:3, &quot;z&quot;:0, &quot;color&quot;:&quot;#7f7f7f&quot;, &quot;parent&quot;:&quot;camera&quot;}];\n",
       "    for ( var i=0 ; i < lights.length ; i++ ) {\n",
       "        var light = new THREE.DirectionalLight( lights[i].color, 1 );\n",
       "        light.position.set( a[0]*lights[i].x, a[1]*lights[i].y, a[2]*lights[i].z );\n",
       "        if ( lights[i].parent === 'camera' ) {\n",
       "            light.target.position.set( a[0]*xMid, a[1]*yMid, a[2]*zMid );\n",
       "            scene.add( light.target );\n",
       "            camera.add( light );\n",
       "        } else scene.add( light );\n",
       "    }\n",
       "    scene.add( camera );\n",
       "\n",
       "    var ambient = {&quot;color&quot;:&quot;#7f7f7f&quot;};\n",
       "    scene.add( new THREE.AmbientLight( ambient.color, 1 ) );\n",
       "\n",
       "    var controls = new THREE.OrbitControls( camera, renderer.domElement );\n",
       "    controls.target.set( a[0]*xMid, a[1]*yMid, a[2]*zMid );\n",
       "    controls.addEventListener( 'change', function() { if ( !animate ) render(); } );\n",
       "\n",
       "    window.addEventListener( 'resize', function() {\n",
       "        \n",
       "        renderer.setSize( window.innerWidth, window.innerHeight );\n",
       "        updateCameraAspect( camera, window.innerWidth / window.innerHeight );\n",
       "        if ( !animate ) render();\n",
       "        \n",
       "    } );\n",
       "\n",
       "    var texts = [];\n",
       "    for ( var i=0 ; i < texts.length ; i++ )\n",
       "        addLabel( texts[i].text, a[0]*texts[i].x, a[1]*texts[i].y, a[2]*texts[i].z, texts[i].color );\n",
       "\n",
       "    var points = [];\n",
       "    for ( var i=0 ; i < points.length ; i++ ) addPoint( points[i] );\n",
       "\n",
       "    function addPoint( json ) {\n",
       "\n",
       "        var geometry = new THREE.Geometry();\n",
       "        var v = json.point;\n",
       "        geometry.vertices.push( new THREE.Vector3( a[0]*v[0], a[1]*v[1], a[2]*v[2] ) );\n",
       "\n",
       "        var canvas = document.createElement( 'canvas' );\n",
       "        canvas.width = 128;\n",
       "        canvas.height = 128;\n",
       "\n",
       "        var context = canvas.getContext( '2d' );\n",
       "        context.arc( 64, 64, 64, 0, 2 * Math.PI );\n",
       "        context.fillStyle = json.color;\n",
       "        context.fill();\n",
       "\n",
       "        var texture = new THREE.Texture( canvas );\n",
       "        texture.needsUpdate = true;\n",
       "\n",
       "        var transparent = json.opacity < 1 ? true : false;\n",
       "        var size = camera.isOrthographicCamera ? json.size : json.size/100;\n",
       "        var material = new THREE.PointsMaterial( { size: size, map: texture,\n",
       "                                                   transparent: transparent, opacity: json.opacity,\n",
       "                                                   alphaTest: .1 } );\n",
       "\n",
       "        var c = new THREE.Vector3();\n",
       "        geometry.computeBoundingBox();\n",
       "        geometry.boundingBox.getCenter( c );\n",
       "        geometry.translate( -c.x, -c.y, -c.z );\n",
       "\n",
       "        var mesh = new THREE.Points( geometry, material );\n",
       "        mesh.position.set( c.x, c.y, c.z );\n",
       "        scene.add( mesh );\n",
       "\n",
       "    }\n",
       "\n",
       "    var lines = [];\n",
       "    for ( var i=0 ; i < lines.length ; i++ ) addLine( lines[i] );\n",
       "\n",
       "    function addLine( json ) {\n",
       "\n",
       "        var geometry = new THREE.Geometry();\n",
       "        for ( var i=0 ; i < json.points.length ; i++ ) {\n",
       "            var v = json.points[i];\n",
       "            geometry.vertices.push( new THREE.Vector3( a[0]*v[0], a[1]*v[1], a[2]*v[2] ) );\n",
       "        }\n",
       "\n",
       "        var transparent = json.opacity < 1 ? true : false;\n",
       "        var material = new THREE.LineBasicMaterial( { color: json.color, linewidth: json.linewidth,\n",
       "                                                      transparent: transparent, opacity: json.opacity } );\n",
       "\n",
       "        var c = new THREE.Vector3();\n",
       "        geometry.computeBoundingBox();\n",
       "        geometry.boundingBox.getCenter( c );\n",
       "        geometry.translate( -c.x, -c.y, -c.z );\n",
       "\n",
       "        var mesh = new THREE.Line( geometry, material );\n",
       "        mesh.position.set( c.x, c.y, c.z );\n",
       "        scene.add( mesh );\n",
       "\n",
       "    }\n",
       "\n",
       "    var surfaces = [{&quot;color&quot;: &quot;#000000&quot;, &quot;opacity&quot;: 0.5, &quot;vertices&quot;: [{&quot;y&quot;: -1.19175359259421, &quot;x&quot;: 1.19175359259421, &quot;z&quot;: -1.0}, {&quot;y&quot;: 1.19175359259421, &quot;x&quot;: 1.19175359259421, &quot;z&quot;: -1.0}, {&quot;y&quot;: 1.19175359259421, &quot;x&quot;: -1.19175359259421, &quot;z&quot;: -1.0}, {&quot;y&quot;: -1.19175359259421, &quot;x&quot;: -1.19175359259421, &quot;z&quot;: -1.0}], &quot;faces&quot;: [[0, 1, 2, 3]]}, {&quot;color&quot;: &quot;#000000&quot;, &quot;opacity&quot;: 0.5, &quot;vertices&quot;: [{&quot;y&quot;: -9.53402874075368, &quot;x&quot;: 9.53402874075368, &quot;z&quot;: -8.0}, {&quot;y&quot;: 9.53402874075368, &quot;x&quot;: 9.53402874075368, &quot;z&quot;: -8.0}, {&quot;y&quot;: 9.53402874075368, &quot;x&quot;: -9.53402874075368, &quot;z&quot;: -8.0}, {&quot;y&quot;: -9.53402874075368, &quot;x&quot;: -9.53402874075368, &quot;z&quot;: -8.0}], &quot;faces&quot;: [[0, 1, 2, 3]]}, {&quot;color&quot;: &quot;#000000&quot;, &quot;opacity&quot;: 0.5, &quot;vertices&quot;: [{&quot;y&quot;: 1.19175359259421, &quot;x&quot;: 1.19175359259421, &quot;z&quot;: -1.0}, {&quot;y&quot;: 1.19175359259421, &quot;x&quot;: -1.19175359259421, &quot;z&quot;: -1.0}, {&quot;y&quot;: 9.53402874075368, &quot;x&quot;: -9.53402874075368, &quot;z&quot;: -8.0}, {&quot;y&quot;: 9.53402874075368, &quot;x&quot;: 9.53402874075368, &quot;z&quot;: -8.0}], &quot;faces&quot;: [[0, 1, 2, 3]]}, {&quot;color&quot;: &quot;#000000&quot;, &quot;opacity&quot;: 0.5, &quot;vertices&quot;: [{&quot;y&quot;: -1.19175359259421, &quot;x&quot;: 1.19175359259421, &quot;z&quot;: -1.0}, {&quot;y&quot;: -1.19175359259421, &quot;x&quot;: -1.19175359259421, &quot;z&quot;: -1.0}, {&quot;y&quot;: -9.53402874075368, &quot;x&quot;: -9.53402874075368, &quot;z&quot;: -8.0}, {&quot;y&quot;: -9.53402874075368, &quot;x&quot;: 9.53402874075368, &quot;z&quot;: -8.0}], &quot;faces&quot;: [[0, 1, 2, 3]]}, {&quot;color&quot;: &quot;#000000&quot;, &quot;opacity&quot;: 0.5, &quot;vertices&quot;: [{&quot;y&quot;: 1.19175359259421, &quot;x&quot;: -1.19175359259421, &quot;z&quot;: -1.0}, {&quot;y&quot;: 9.53402874075368, &quot;x&quot;: -9.53402874075368, &quot;z&quot;: -8.0}, {&quot;y&quot;: -9.53402874075368, &quot;x&quot;: -9.53402874075368, &quot;z&quot;: -8.0}, {&quot;y&quot;: -1.19175359259421, &quot;x&quot;: -1.19175359259421, &quot;z&quot;: -1.0}], &quot;faces&quot;: [[0, 1, 2, 3]]}, {&quot;color&quot;: &quot;#000000&quot;, &quot;opacity&quot;: 0.5, &quot;vertices&quot;: [{&quot;y&quot;: 1.19175359259421, &quot;x&quot;: 1.19175359259421, &quot;z&quot;: -1.0}, {&quot;y&quot;: 9.53402874075368, &quot;x&quot;: 9.53402874075368, &quot;z&quot;: -8.0}, {&quot;y&quot;: -9.53402874075368, &quot;x&quot;: 9.53402874075368, &quot;z&quot;: -8.0}, {&quot;y&quot;: -1.19175359259421, &quot;x&quot;: 1.19175359259421, &quot;z&quot;: -1.0}], &quot;faces&quot;: [[0, 1, 2, 3]]}, {&quot;color&quot;: &quot;#ff0000&quot;, &quot;opacity&quot;: 0.5, &quot;vertices&quot;: [{&quot;y&quot;: -1.0, &quot;x&quot;: 1.0, &quot;z&quot;: -5.0}, {&quot;y&quot;: 0.0, &quot;x&quot;: -1.0, &quot;z&quot;: -5.0}, {&quot;y&quot;: 1.0, &quot;x&quot;: 0.0, &quot;z&quot;: -5.0}], &quot;faces&quot;: [[0, 1, 2]]}, {&quot;color&quot;: &quot;#ff0000&quot;, &quot;opacity&quot;: 0.5, &quot;vertices&quot;: [{&quot;y&quot;: 1.0, &quot;x&quot;: 0.0, &quot;z&quot;: -5.0}, {&quot;y&quot;: 0.0, &quot;x&quot;: 2.0, &quot;z&quot;: -5.0}, {&quot;y&quot;: -1.0, &quot;x&quot;: 1.0, &quot;z&quot;: -5.0}], &quot;faces&quot;: [[0, 1, 2]]}, {&quot;color&quot;: &quot;#ff0000&quot;, &quot;opacity&quot;: 0.5, &quot;vertices&quot;: [{&quot;y&quot;: -1.0, &quot;x&quot;: 1.0, &quot;z&quot;: -5.0}, {&quot;y&quot;: 0.0, &quot;x&quot;: 2.0, &quot;z&quot;: -5.0}, {&quot;y&quot;: 0.0, &quot;x&quot;: 0.0, &quot;z&quot;: -3.0}], &quot;faces&quot;: [[0, 1, 2]]}, {&quot;color&quot;: &quot;#ff0000&quot;, &quot;opacity&quot;: 0.5, &quot;vertices&quot;: [{&quot;y&quot;: 1.0, &quot;x&quot;: 0.0, &quot;z&quot;: -5.0}, {&quot;y&quot;: 0.0, &quot;x&quot;: 0.0, &quot;z&quot;: -3.0}, {&quot;y&quot;: 0.0, &quot;x&quot;: 2.0, &quot;z&quot;: -5.0}], &quot;faces&quot;: [[0, 1, 2]]}, {&quot;color&quot;: &quot;#ff0000&quot;, &quot;opacity&quot;: 0.5, &quot;vertices&quot;: [{&quot;y&quot;: 0.0, &quot;x&quot;: -1.0, &quot;z&quot;: -5.0}, {&quot;y&quot;: 0.0, &quot;x&quot;: 0.0, &quot;z&quot;: -3.0}, {&quot;y&quot;: 1.0, &quot;x&quot;: 0.0, &quot;z&quot;: -5.0}], &quot;faces&quot;: [[0, 1, 2]]}, {&quot;color&quot;: &quot;#ff0000&quot;, &quot;opacity&quot;: 0.5, &quot;vertices&quot;: [{&quot;y&quot;: -1.0, &quot;x&quot;: 1.0, &quot;z&quot;: -5.0}, {&quot;y&quot;: 0.0, &quot;x&quot;: 0.0, &quot;z&quot;: -3.0}, {&quot;y&quot;: 0.0, &quot;x&quot;: -1.0, &quot;z&quot;: -5.0}], &quot;faces&quot;: [[0, 1, 2]]}];\n",
       "    for ( var i=0 ; i < surfaces.length ; i++ ) addSurface( surfaces[i] );\n",
       "\n",
       "    function addSurface( json ) {\n",
       "\n",
       "        var useFaceColors = 'faceColors' in json ? true : false;\n",
       "\n",
       "        var geometry = new THREE.Geometry();\n",
       "        for ( var i=0 ; i < json.vertices.length ; i++ ) {\n",
       "            var v = json.vertices[i];\n",
       "            geometry.vertices.push( new THREE.Vector3( a[0]*v.x, a[1]*v.y, a[2]*v.z ) );\n",
       "        }\n",
       "        for ( var i=0 ; i < json.faces.length ; i++ ) {\n",
       "            var f = json.faces[i];\n",
       "            for ( var j=0 ; j < f.length - 2 ; j++ ) {\n",
       "                var face = new THREE.Face3( f[0], f[j+1], f[j+2] );\n",
       "                if ( useFaceColors ) face.color.set( json.faceColors[i] );\n",
       "                geometry.faces.push( face );\n",
       "            }\n",
       "        }\n",
       "        geometry.computeVertexNormals();\n",
       "\n",
       "        var side = json.singleSide ? THREE.FrontSide : THREE.DoubleSide;\n",
       "        var transparent = json.opacity < 1 ? true : false;\n",
       "\n",
       "        var material = new THREE.MeshPhongMaterial( { side: side,\n",
       "                                     color: useFaceColors ? 'white' : json.color,\n",
       "                                     vertexColors: useFaceColors ? THREE.FaceColors : THREE.NoColors,\n",
       "                                     transparent: transparent, opacity: json.opacity,\n",
       "                                     shininess: 20, flatShading: json.useFlatShading } );\n",
       "\n",
       "        var c = new THREE.Vector3();\n",
       "        geometry.computeBoundingBox();\n",
       "        geometry.boundingBox.getCenter( c );\n",
       "        geometry.translate( -c.x, -c.y, -c.z );\n",
       "\n",
       "        var mesh = new THREE.Mesh( geometry, material );\n",
       "        mesh.position.set( c.x, c.y, c.z );\n",
       "        if ( transparent && json.renderOrder ) mesh.renderOrder = json.renderOrder;\n",
       "        scene.add( mesh );\n",
       "\n",
       "        if ( json.showMeshGrid ) {\n",
       "\n",
       "            var geometry = new THREE.Geometry();\n",
       "\n",
       "            for ( var i=0 ; i < json.faces.length ; i++ ) {\n",
       "                var f = json.faces[i];\n",
       "                for ( var j=0 ; j < f.length ; j++ ) {\n",
       "                    var k = j === f.length-1 ? 0 : j+1;\n",
       "                    var v1 = json.vertices[f[j]];\n",
       "                    var v2 = json.vertices[f[k]];\n",
       "                    // vertices in opposite directions on neighboring faces\n",
       "                    var nudge = f[j] < f[k] ? .0005*zRange : -.0005*zRange;\n",
       "                    geometry.vertices.push( new THREE.Vector3( a[0]*v1.x, a[1]*v1.y, a[2]*(v1.z+nudge) ) );\n",
       "                    geometry.vertices.push( new THREE.Vector3( a[0]*v2.x, a[1]*v2.y, a[2]*(v2.z+nudge) ) );\n",
       "                }\n",
       "            }\n",
       "\n",
       "            var material = new THREE.LineBasicMaterial( { color: 'black', linewidth: 1 } );\n",
       "\n",
       "            var c = new THREE.Vector3();\n",
       "            geometry.computeBoundingBox();\n",
       "            geometry.boundingBox.getCenter( c );\n",
       "            geometry.translate( -c.x, -c.y, -c.z );\n",
       "\n",
       "            var mesh = new THREE.LineSegments( geometry, material );\n",
       "            mesh.position.set( c.x, c.y, c.z );\n",
       "            scene.add( mesh );\n",
       "\n",
       "        }\n",
       "\n",
       "    }\n",
       "\n",
       "    var scratch = new THREE.Vector3();\n",
       "\n",
       "    function render() {\n",
       "\n",
       "        if ( animate ) requestAnimationFrame( render );\n",
       "        renderer.render( scene, camera );\n",
       "\n",
       "        // Resize text based on distance from camera.\n",
       "        // Not neccessary for orthographic due to the nature of the projection (preserves sizes).\n",
       "        if ( !camera.isOrthographicCamera ) {\n",
       "            for ( var i=0 ; i < scene.children.length ; i++ ) {\n",
       "                if ( scene.children[i].type === 'Sprite' ) {\n",
       "                    var sprite = scene.children[i];\n",
       "                    var adjust = scratch.addVectors( sprite.position, scene.position )\n",
       "                                    .sub( camera.position ).length() / 5;\n",
       "                    sprite.scale.set( adjust, .25*adjust, 1 ); // ratio of canvas width to height\n",
       "                }\n",
       "            }\n",
       "        }\n",
       "    }\n",
       "    \n",
       "    render();\n",
       "    controls.update();\n",
       "    if ( !animate ) render();\n",
       "\n",
       "\n",
       "    // menu functions\n",
       "\n",
       "    function toggleMenu() {\n",
       "\n",
       "        var m = document.getElementById( 'menu-content' );\n",
       "        if ( m.style.display === 'block' ) m.style.display = 'none'\n",
       "        else m.style.display = 'block';\n",
       "\n",
       "    }\n",
       "\n",
       "\n",
       "    function saveAsPNG() {\n",
       "\n",
       "        var a = document.body.appendChild( document.createElement( 'a' ) );\n",
       "        a.href = renderer.domElement.toDataURL( 'image/png' );\n",
       "        a.download = 'screenshot';\n",
       "        a.click();\n",
       "\n",
       "    }\n",
       "\n",
       "    function saveAsHTML() {\n",
       "\n",
       "        toggleMenu(); // otherwise visible in output\n",
       "        event.stopPropagation();\n",
       "\n",
       "        var blob = new Blob( [ '<!DOCTYPE html>\\n' + document.documentElement.outerHTML ] );\n",
       "        var a = document.body.appendChild( document.createElement( 'a' ) );\n",
       "        a.href = window.URL.createObjectURL( blob );\n",
       "        a.download = 'graphic.html';\n",
       "        a.click();\n",
       "\n",
       "    }\n",
       "\n",
       "    function getViewpoint() {\n",
       "\n",
       "        function roundTo( x, n ) { return +x.toFixed(n); }\n",
       "\n",
       "        var v = camera.quaternion.inverse();\n",
       "        var r = Math.sqrt( v.x*v.x + v.y*v.y + v.z*v.z );\n",
       "        var axis = [ roundTo( v.x / r, 4 ), roundTo( v.y / r, 4 ), roundTo( v.z / r, 4 ) ];\n",
       "        var angle = roundTo( 2 * Math.atan2( r, v.w ) * 180 / Math.PI, 2 );\n",
       "\n",
       "        var textArea = document.createElement( 'textarea' );\n",
       "        textArea.textContent = JSON.stringify( axis ) + ',' + angle;\n",
       "        textArea.style.csstext = 'position: absolute; top: -100%';\n",
       "        document.body.append( textArea );\n",
       "        textArea.select();\n",
       "        document.execCommand( 'copy' );\n",
       "\n",
       "        var m = document.getElementById( 'menu-message' );\n",
       "        m.innerHTML = 'Viewpoint copied to clipboard';\n",
       "        m.style.display = 'block';\n",
       "        setTimeout( function() { m.style.display = 'none'; }, 2000 );\n",
       "\n",
       "    }\n",
       "\n",
       "</script>\n",
       "\n",
       "<div id=&quot;menu-container&quot; onclick=&quot;toggleMenu()&quot;>&#x24d8;\n",
       "<div id=&quot;menu-message&quot;></div>\n",
       "<div id=&quot;menu-content&quot;>\n",
       "<div onclick=&quot;saveAsPNG()&quot;>Save as PNG</div>\n",
       "<div onclick=&quot;saveAsHTML()&quot;>Save as HTML</div>\n",
       "<div onclick=&quot;getViewpoint()&quot;>Get Viewpoint</div>\n",
       "<div>Close Menu</div>\n",
       "</div></div>\n",
       "\n",
       "</body>\n",
       "</html>\n",
       "\"\n",
       "        width=\"100%\"\n",
       "        height=\"400\"\n",
       "        style=\"border: 0;\">\n",
       "</iframe>\n"
      ],
      "text/plain": [
       "Graphics3d Object"
      ]
     },
     "execution_count": 18,
     "metadata": {},
     "output_type": "execute_result"
    }
   ],
   "source": [
    "# View frustum culling\n",
    "\n",
    "centre=centre_sphere(V)\n",
    "show('rayon de la sphere=',rayon_sphere(centre,V))\n",
    "\n",
    "centreSRC=Mcam*centre\n",
    "distance_centreSRC_viewFrustum(centreSRC,l,r,b,top,near,far)\n",
    "\n",
    "show('coordonnees du centre de la sphere dans le colume canonique=',simplifyMatrix(Morth*Mpersp*centreSRC).n())\n",
    "     \n",
    "afficherFrustum( l,r,b,top,near,far )+afficher_mallaige_polygonal(Vcam,C,'red')"
   ]
  },
  {
   "cell_type": "markdown",
   "metadata": {},
   "source": [
    "#### Suposons que la dimension de la fenetre est de 600 x 400 pixels, avec un seuil de 50 pixels, determinons si l'objet s'affichera ou non dans la fenetre."
   ]
  },
  {
   "cell_type": "code",
   "execution_count": 19,
   "metadata": {},
   "outputs": [
    {
     "data": {
      "text/html": [
       "<html><script type=\"math/tex; mode=display\">\\newcommand{\\Bold}[1]{\\mathbf{#1}}\\verb|Vpersp=| \\left(\\begin{array}{rrrrr}\n",
       "-1.0 & 1.0 & 0.0 & -2.0 & 0.0 \\\\\n",
       "1.0 & 0.0 & -1.0 & 0.0 & 0.0 \\\\\n",
       "37.0 & 37.0 & 37.0 & 37.0 & 19.0 \\\\\n",
       "-5.0 & -5.0 & -5.0 & -5.0 & -3.0\n",
       "\\end{array}\\right)</script></html>"
      ],
      "text/plain": [
       "'Vpersp=' [-1.0  1.0  0.0 -2.0  0.0]\n",
       "[ 1.0  0.0 -1.0  0.0  0.0]\n",
       "[37.0 37.0 37.0 37.0 19.0]\n",
       "[-5.0 -5.0 -5.0 -5.0 -3.0]"
      ]
     },
     "metadata": {},
     "output_type": "display_data"
    },
    {
     "data": {
      "text/html": [
       "<html><script type=\"math/tex; mode=display\">\\newcommand{\\Bold}[1]{\\mathbf{#1}}\\verb|Vorth=| \\left(\\begin{array}{rrrrr}\n",
       "-0.839099631177280 & 0.839099631177280 & 0.000000000000000 & -1.67819926235456 & 0.000000000000000 \\\\\n",
       "0.839099631177280 & 0.000000000000000 & -0.839099631177280 & 0.000000000000000 & 0.000000000000000 \\\\\n",
       "4.14285714285714 & 4.14285714285714 & 4.14285714285714 & 4.14285714285714 & 1.57142857142857 \\\\\n",
       "-5.00000000000000 & -5.00000000000000 & -5.00000000000000 & -5.00000000000000 & -3.00000000000000\n",
       "\\end{array}\\right)</script></html>"
      ],
      "text/plain": [
       "'Vorth=' [-0.839099631177280  0.839099631177280  0.000000000000000  -1.67819926235456  0.000000000000000]\n",
       "[ 0.839099631177280  0.000000000000000 -0.839099631177280  0.000000000000000  0.000000000000000]\n",
       "[  4.14285714285714   4.14285714285714   4.14285714285714   4.14285714285714   1.57142857142857]\n",
       "[ -5.00000000000000  -5.00000000000000  -5.00000000000000  -5.00000000000000  -3.00000000000000]"
      ]
     },
     "metadata": {},
     "output_type": "display_data"
    },
    {
     "data": {
      "text/html": [
       "<html><script type=\"math/tex; mode=display\">\\newcommand{\\Bold}[1]{\\mathbf{#1}}\\verb|Vvp=| \\left(\\begin{array}{rrrrr}\n",
       "-1749.22988935318 & -1245.77011064682 & -1497.50000000000 & -2000.95977870637 & -898.500000000000 \\\\\n",
       "-829.680073764544 & -997.500000000000 & -1165.31992623546 & -997.500000000000 & -598.500000000000 \\\\\n",
       "4.14285714285714 & 4.14285714285714 & 4.14285714285714 & 4.14285714285714 & 1.57142857142857 \\\\\n",
       "-5.00000000000000 & -5.00000000000000 & -5.00000000000000 & -5.00000000000000 & -3.00000000000000\n",
       "\\end{array}\\right)</script></html>"
      ],
      "text/plain": [
       "'Vvp=' [-1749.22988935318 -1245.77011064682 -1497.50000000000 -2000.95977870637 -898.500000000000]\n",
       "[-829.680073764544 -997.500000000000 -1165.31992623546 -997.500000000000 -598.500000000000]\n",
       "[ 4.14285714285714  4.14285714285714  4.14285714285714  4.14285714285714  1.57142857142857]\n",
       "[-5.00000000000000 -5.00000000000000 -5.00000000000000 -5.00000000000000 -3.00000000000000]"
      ]
     },
     "metadata": {},
     "output_type": "display_data"
    },
    {
     "data": {
      "text/html": [
       "<html><script type=\"math/tex; mode=display\">\\newcommand{\\Bold}[1]{\\mathbf{#1}}\\verb|Vscreen=| \\left(\\begin{array}{rrrrr}\n",
       "349.845977870637 & 249.154022129363 & 299.500000000000 & 400.191955741274 & 299.500000000000 \\\\\n",
       "165.936014752909 & 199.500000000000 & 233.063985247091 & 199.500000000000 & 199.500000000000 \\\\\n",
       "-0.828571428571429 & -0.828571428571429 & -0.828571428571429 & -0.828571428571429 & -0.523809523809523 \\\\\n",
       "1.00000000000000 & 1.00000000000000 & 1.00000000000000 & 1.00000000000000 & 1.00000000000000\n",
       "\\end{array}\\right)</script></html>"
      ],
      "text/plain": [
       "'Vscreen=' [  349.845977870637   249.154022129363   299.500000000000   400.191955741274   299.500000000000]\n",
       "[  165.936014752909   199.500000000000   233.063985247091   199.500000000000   199.500000000000]\n",
       "[-0.828571428571429 -0.828571428571429 -0.828571428571429 -0.828571428571429 -0.523809523809523]\n",
       "[  1.00000000000000   1.00000000000000   1.00000000000000   1.00000000000000   1.00000000000000]"
      ]
     },
     "metadata": {},
     "output_type": "display_data"
    },
    {
     "data": {
      "text/html": [
       "<html><script type=\"math/tex; mode=display\">\\newcommand{\\Bold}[1]{\\mathbf{#1}}\\verb|P=| \\left(\\begin{array}{r}\n",
       "249.154022129363 \\\\\n",
       "165.936014752909 \\\\\n",
       "1.00000000000000\n",
       "\\end{array}\\right)</script></html>"
      ],
      "text/plain": [
       "'P=' [249.154022129363]\n",
       "[165.936014752909]\n",
       "[1.00000000000000]"
      ]
     },
     "metadata": {},
     "output_type": "display_data"
    },
    {
     "data": {
      "text/html": [
       "<html><script type=\"math/tex; mode=display\">\\newcommand{\\Bold}[1]{\\mathbf{#1}}\\verb|Q=| \\left(\\begin{array}{r}\n",
       "400.191955741274 \\\\\n",
       "233.063985247091 \\\\\n",
       "1.00000000000000\n",
       "\\end{array}\\right)</script></html>"
      ],
      "text/plain": [
       "'Q=' [400.191955741274]\n",
       "[233.063985247091]\n",
       "[1.00000000000000]"
      ]
     },
     "metadata": {},
     "output_type": "display_data"
    },
    {
     "data": {
      "text/html": [
       "<html><script type=\"math/tex; mode=display\">\\newcommand{\\Bold}[1]{\\mathbf{#1}}\\verb|dimension|\\phantom{\\verb!x!}\\verb|de|\\phantom{\\verb!x!}\\verb|la|\\phantom{\\verb!x!}\\verb|bounding|\\phantom{\\verb!x!}\\verb|box=| 165.283458980092</script></html>"
      ],
      "text/plain": [
       "'dimension de la bounding box=' 165.283458980092"
      ]
     },
     "metadata": {},
     "output_type": "display_data"
    }
   ],
   "source": [
    "#Small culling\n",
    "\n",
    "Vpersp=Mpersp*Vcam\n",
    "show('Vpersp=',Vpersp)\n",
    "Vorth=Morth*Vpersp\n",
    "show('Vorth=',Vorth.n())\n",
    "Vvp=Mvp*Vorth\n",
    "show('Vvp=',Vvp.n())\n",
    "Vscreen=simplifyMatrix(Vvp.n())\n",
    "show('Vscreen=',Vscreen)\n",
    "\n",
    "bbox=bounding_box(Vscreen)\n",
    "show('dimension de la bounding box=',distance_en_pixels(bbox[0],bbox[1]))"
   ]
  },
  {
   "cell_type": "markdown",
   "metadata": {},
   "source": [
    "#### Determinons si toutes les faces de l'objet sont visibles"
   ]
  },
  {
   "cell_type": "code",
   "execution_count": 20,
   "metadata": {},
   "outputs": [
    {
     "data": {
      "text/html": [
       "<html><script type=\"math/tex; mode=display\">\\newcommand{\\Bold}[1]{\\mathbf{#1}}\\left(\\begin{array}{r}\n",
       "0 \\\\\n",
       "0 \\\\\n",
       "-3 \\\\\n",
       "0\n",
       "\\end{array}\\right)</script></html>"
      ],
      "text/plain": [
       "[ 0]\n",
       "[ 0]\n",
       "[-3]\n",
       "[ 0]"
      ]
     },
     "metadata": {},
     "output_type": "display_data"
    },
    {
     "data": {
      "text/plain": [
       "[3.0, 3.0, -1.7320508075688776, -1.2247448713915892, -1.0, -0.6546536707079772]"
      ]
     },
     "execution_count": 20,
     "metadata": {},
     "output_type": "execute_result"
    }
   ],
   "source": [
    "#produit scalaire < 0 --> visible\n",
    "at=c-e\n",
    "show(at)\n",
    "backface_culling(V,C,at)"
   ]
  },
  {
   "cell_type": "markdown",
   "metadata": {},
   "source": [
    "### Exemple:"
   ]
  },
  {
   "cell_type": "code",
   "execution_count": 21,
   "metadata": {},
   "outputs": [
    {
     "data": {
      "text/html": [
       "<html><script type=\"math/tex; mode=display\">\\newcommand{\\Bold}[1]{\\mathbf{#1}}\\verb|V=| \\left(\\begin{array}{rrrrr}\n",
       "1 & -1 & 0 & 2 & 0 \\\\\n",
       "-1 & 0 & 1 & 0 & 0 \\\\\n",
       "0 & 0 & 0 & 0 & 2 \\\\\n",
       "1 & 1 & 1 & 1 & 1\n",
       "\\end{array}\\right)</script></html>"
      ],
      "text/plain": [
       "'V=' [ 1 -1  0  2  0]\n",
       "[-1  0  1  0  0]\n",
       "[ 0  0  0  0  2]\n",
       "[ 1  1  1  1  1]"
      ]
     },
     "metadata": {},
     "output_type": "display_data"
    }
   ],
   "source": [
    "V = matrix([[ 1, -1, 0, 2, 0],[-1,  0, 1, 0, 0],[ 0,  0, 0, 0, 2],[1,  1, 1, 1, 1]])   \n",
    "show('V=',V)\n",
    "\n",
    "C =matrix([[0, 1 ,2],[ 2,3,0],[0,3,4],[2,4,3],[1,4,2],[0,4,1]])\n",
    "\n",
    "    \n",
    "e = matrix([[0],[0],[5],[1]])\n",
    "c = matrix([[0],[0],[2],[1]])\n",
    "up = matrix([[0],[1],[0],[0]])\n",
    "\n",
    "near = -1\n",
    "far = -8\n",
    "\n",
    "FOV = 30\n",
    "nx=600\n",
    "ny=400"
   ]
  },
  {
   "cell_type": "code",
   "execution_count": 22,
   "metadata": {},
   "outputs": [
    {
     "data": {
      "text/html": [
       "<html><script type=\"math/tex; mode=display\">\\newcommand{\\Bold}[1]{\\mathbf{#1}}\\verb|Mcam=| \\left(\\begin{array}{rrrr}\n",
       "1.0 & 0.0 & 0.0 & -0.0 \\\\\n",
       "0.0 & 1.0 & 0.0 & -0.0 \\\\\n",
       "0.0 & 0.0 & 1.0 & -5.0 \\\\\n",
       "0.0 & 0.0 & 0.0 & 1.0\n",
       "\\end{array}\\right)</script></html>"
      ],
      "text/plain": [
       "'Mcam=' [ 1.0  0.0  0.0 -0.0]\n",
       "[ 0.0  1.0  0.0 -0.0]\n",
       "[ 0.0  0.0  1.0 -5.0]\n",
       "[ 0.0  0.0  0.0  1.0]"
      ]
     },
     "metadata": {},
     "output_type": "display_data"
    },
    {
     "data": {
      "text/html": [
       "<html><script type=\"math/tex; mode=display\">\\newcommand{\\Bold}[1]{\\mathbf{#1}}\\verb|Vcam=| \\left(\\begin{array}{rrrrr}\n",
       "1.0 & -1.0 & 0.0 & 2.0 & 0.0 \\\\\n",
       "-1.0 & 0.0 & 1.0 & 0.0 & 0.0 \\\\\n",
       "-5.0 & -5.0 & -5.0 & -5.0 & -3.0 \\\\\n",
       "1.0 & 1.0 & 1.0 & 1.0 & 1.0\n",
       "\\end{array}\\right)</script></html>"
      ],
      "text/plain": [
       "'Vcam=' [ 1.0 -1.0  0.0  2.0  0.0]\n",
       "[-1.0  0.0  1.0  0.0  0.0]\n",
       "[-5.0 -5.0 -5.0 -5.0 -3.0]\n",
       "[ 1.0  1.0  1.0  1.0  1.0]"
      ]
     },
     "metadata": {},
     "output_type": "display_data"
    },
    {
     "data": {
      "text/html": [
       "<html><script type=\"math/tex; mode=display\">\\newcommand{\\Bold}[1]{\\mathbf{#1}}\\verb|Mpersp=| \\left(\\begin{array}{rrrr}\n",
       "-1 & 0 & 0 & 0 \\\\\n",
       "0 & -1 & 0 & 0 \\\\\n",
       "0 & 0 & -9 & -8 \\\\\n",
       "0 & 0 & 1 & 0\n",
       "\\end{array}\\right)</script></html>"
      ],
      "text/plain": [
       "'Mpersp=' [-1  0  0  0]\n",
       "[ 0 -1  0  0]\n",
       "[ 0  0 -9 -8]\n",
       "[ 0  0  1  0]"
      ]
     },
     "metadata": {},
     "output_type": "display_data"
    },
    {
     "data": {
      "text/html": [
       "<html><script type=\"math/tex; mode=display\">\\newcommand{\\Bold}[1]{\\mathbf{#1}}\\verb|Morth=| \\left(\\begin{array}{rrrr}\n",
       "3.73205080756888 & 0.000000000000000 & 0.000000000000000 & 0.000000000000000 \\\\\n",
       "0.000000000000000 & 3.73205080756888 & 0.000000000000000 & 0.000000000000000 \\\\\n",
       "0.000000000000000 & 0.000000000000000 & 0.285714285714286 & 1.28571428571429 \\\\\n",
       "0.000000000000000 & 0.000000000000000 & 0.000000000000000 & 1.00000000000000\n",
       "\\end{array}\\right)</script></html>"
      ],
      "text/plain": [
       "'Morth=' [ 3.73205080756888 0.000000000000000 0.000000000000000 0.000000000000000]\n",
       "[0.000000000000000  3.73205080756888 0.000000000000000 0.000000000000000]\n",
       "[0.000000000000000 0.000000000000000 0.285714285714286  1.28571428571429]\n",
       "[0.000000000000000 0.000000000000000 0.000000000000000  1.00000000000000]"
      ]
     },
     "metadata": {},
     "output_type": "display_data"
    }
   ],
   "source": [
    "r = abs(near)*tan((FOV*pi/180)/2)\n",
    "l = -r\n",
    "top = r\n",
    "b = -r\n",
    "Mcam = transf_camera(e,c,up)\n",
    "show('Mcam=',Mcam)\n",
    "Vcam = Mcam*V\n",
    "show('Vcam=',Vcam)\n",
    "Mpersp=transf_persp(near,far)\n",
    "show('Mpersp=',Mpersp)\n",
    "Morth=transf_morth(l,r,b,top,near,far)\n",
    "show('Morth=',Morth.n())\n",
    "Mvp=transf_vp(nx,ny)"
   ]
  },
  {
   "cell_type": "code",
   "execution_count": 23,
   "metadata": {},
   "outputs": [
    {
     "data": {
      "text/html": [
       "<html><script type=\"math/tex; mode=display\">\\newcommand{\\Bold}[1]{\\mathbf{#1}}\\verb|rayon|\\phantom{\\verb!x!}\\verb|de|\\phantom{\\verb!x!}\\verb|la|\\phantom{\\verb!x!}\\verb|sphere=| 1.64924225024706</script></html>"
      ],
      "text/plain": [
       "'rayon de la sphere=' 1.64924225024706"
      ]
     },
     "metadata": {},
     "output_type": "display_data"
    },
    {
     "data": {
      "text/html": [
       "<html><script type=\"math/tex; mode=display\">\\newcommand{\\Bold}[1]{\\mathbf{#1}}\\verb|distance|\\phantom{\\verb!x!}\\verb|plan|\\phantom{\\verb!x!}\\verb|left=| 1.57693793798722</script></html>"
      ],
      "text/plain": [
       "'distance plan left=' 1.57693793798722"
      ]
     },
     "metadata": {},
     "output_type": "display_data"
    },
    {
     "data": {
      "text/html": [
       "<html><script type=\"math/tex; mode=display\">\\newcommand{\\Bold}[1]{\\mathbf{#1}}\\verb|distance|\\phantom{\\verb!x!}\\verb|plan|\\phantom{\\verb!x!}\\verb|right=| 0.804197276955968</script></html>"
      ],
      "text/plain": [
       "'distance plan right=' 0.804197276955968"
      ]
     },
     "metadata": {},
     "output_type": "display_data"
    },
    {
     "data": {
      "text/html": [
       "<html><script type=\"math/tex; mode=display\">\\newcommand{\\Bold}[1]{\\mathbf{#1}}\\verb|distance|\\phantom{\\verb!x!}\\verb|plan|\\phantom{\\verb!x!}\\verb|bottom=| 1.19056760747160</script></html>"
      ],
      "text/plain": [
       "'distance plan bottom=' 1.19056760747160"
      ]
     },
     "metadata": {},
     "output_type": "display_data"
    },
    {
     "data": {
      "text/html": [
       "<html><script type=\"math/tex; mode=display\">\\newcommand{\\Bold}[1]{\\mathbf{#1}}\\verb|distance|\\phantom{\\verb!x!}\\verb|plan|\\phantom{\\verb!x!}\\verb|top=| 1.19056760747160</script></html>"
      ],
      "text/plain": [
       "'distance plan top=' 1.19056760747160"
      ]
     },
     "metadata": {},
     "output_type": "display_data"
    },
    {
     "data": {
      "text/html": [
       "<html><script type=\"math/tex; mode=display\">\\newcommand{\\Bold}[1]{\\mathbf{#1}}\\verb|distance|\\phantom{\\verb!x!}\\verb|plan|\\phantom{\\verb!x!}\\verb|near=| 3.60000000000000</script></html>"
      ],
      "text/plain": [
       "'distance plan near=' 3.60000000000000"
      ]
     },
     "metadata": {},
     "output_type": "display_data"
    },
    {
     "data": {
      "text/html": [
       "<html><script type=\"math/tex; mode=display\">\\newcommand{\\Bold}[1]{\\mathbf{#1}}\\verb|distance|\\phantom{\\verb!x!}\\verb|plan|\\phantom{\\verb!x!}\\verb|far=| 3.40000000000000</script></html>"
      ],
      "text/plain": [
       "'distance plan far=' 3.40000000000000"
      ]
     },
     "metadata": {},
     "output_type": "display_data"
    },
    {
     "data": {
      "text/html": [
       "<html><script type=\"math/tex; mode=display\">\\newcommand{\\Bold}[1]{\\mathbf{#1}}\\verb|Coordonnees|\\phantom{\\verb!x!}\\verb|du|\\phantom{\\verb!x!}\\verb|centre|\\phantom{\\verb!x!}\\verb|de|\\phantom{\\verb!x!}\\verb|la|\\phantom{\\verb!x!}\\verb|sphere|\\phantom{\\verb!x!}\\verb|dans|\\phantom{\\verb!x!}\\verb|le|\\phantom{\\verb!x!}\\verb|volume|\\phantom{\\verb!x!}\\verb|canonique=| \\left(\\begin{array}{r}\n",
       "0.324526157179902 \\\\\n",
       "0.000000000000000 \\\\\n",
       "-0.788819875776398 \\\\\n",
       "1.00000000000000\n",
       "\\end{array}\\right)</script></html>"
      ],
      "text/plain": [
       "'Coordonnees du centre de la sphere dans le volume canonique=' [ 0.324526157179902]\n",
       "[ 0.000000000000000]\n",
       "[-0.788819875776398]\n",
       "[  1.00000000000000]"
      ]
     },
     "metadata": {},
     "output_type": "display_data"
    },
    {
     "data": {
      "text/html": [
       "\n",
       "<iframe srcdoc=\"<!DOCTYPE html>\n",
       "<html>\n",
       "<head>\n",
       "<title></title>\n",
       "<meta charset=&quot;utf-8&quot;>\n",
       "<meta name=viewport content=&quot;width=device-width, user-scalable=no, minimum-scale=1.0, maximum-scale=1.0&quot;>\n",
       "<style>\n",
       "\n",
       "    body { margin: 0px; overflow: hidden; }\n",
       "\n",
       "    #menu-container { position: absolute; bottom: 30px; right: 40px; cursor: default; }\n",
       "\n",
       "    #menu-message { position: absolute; bottom: 0px; right: 0px; white-space: nowrap;\n",
       "                    display: none; background-color: #F5F5F5; padding: 10px; }\n",
       "\n",
       "    #menu-content { position: absolute; bottom: 0px; right: 0px;\n",
       "                    display: none; background-color: #F5F5F5; border-bottom: 1px solid black;\n",
       "                    border-right: 1px solid black; border-left: 1px solid black; }\n",
       "\n",
       "    #menu-content div { border-top: 1px solid black; padding: 10px; white-space: nowrap; }\n",
       "\n",
       "    #menu-content div:hover { background-color: #FEFEFE;; }\n",
       "  \n",
       "</style>\n",
       "</head>\n",
       "\n",
       "<body>\n",
       "\n",
       "<script src=&quot;/nbextensions/threejs/build/three.min.js&quot;></script>\n",
       "<script src=&quot;/nbextensions/threejs/examples/js/controls/OrbitControls.js&quot;></script>\n",
       "<script>\n",
       "  if ( !window.THREE ) document.write(' \\\n",
       "<script src=&quot;https://cdn.jsdelivr.net/gh/mrdoob/three.js@r110/build/three.min.js&quot;><\\/script> \\\n",
       "<script src=&quot;https://cdn.jsdelivr.net/gh/mrdoob/three.js@r110/examples/js/controls/OrbitControls.js&quot;><\\/script> \\\n",
       "            ');\n",
       "</script>\n",
       "        \n",
       "<script>\n",
       "\n",
       "    var scene = new THREE.Scene();\n",
       "\n",
       "    var renderer = new THREE.WebGLRenderer( { antialias: true, preserveDrawingBuffer: true } );\n",
       "    renderer.setPixelRatio( window.devicePixelRatio );\n",
       "    renderer.setSize( window.innerWidth, window.innerHeight );\n",
       "    renderer.setClearColor( 0xffffff, 1 );\n",
       "    document.body.appendChild( renderer.domElement );\n",
       "\n",
       "    var options = {&quot;projection&quot;: &quot;perspective&quot;, &quot;axesLabels&quot;: [&quot;x&quot;, &quot;y&quot;, &quot;z&quot;], &quot;frame&quot;: true, &quot;axes&quot;: false, &quot;aspectRatio&quot;: [1.0, 1.0, 1.0], &quot;decimals&quot;: 2};\n",
       "\n",
       "    // When animations are supported by the viewer, the value 'false'\n",
       "    // will be replaced with an option set in Python by the user\n",
       "    var animate = false; // options.animate;\n",
       "\n",
       "    var b = [{&quot;x&quot;:-2.14359353945, &quot;y&quot;:-2.14359353945, &quot;z&quot;:-8.0}, {&quot;x&quot;:2.14359353945, &quot;y&quot;:2.14359353945, &quot;z&quot;:-1.0}]; // bounds\n",
       "\n",
       "    if ( b[0].x === b[1].x ) {\n",
       "        b[0].x -= 1;\n",
       "        b[1].x += 1;\n",
       "    }\n",
       "    if ( b[0].y === b[1].y ) {\n",
       "        b[0].y -= 1;\n",
       "        b[1].y += 1;\n",
       "    }\n",
       "    if ( b[0].z === b[1].z ) {\n",
       "        b[0].z -= 1;\n",
       "        b[1].z += 1;\n",
       "    }\n",
       "\n",
       "    var rRange = Math.sqrt( Math.pow( b[1].x - b[0].x, 2 )\n",
       "                            + Math.pow( b[1].y - b[0].y, 2 ) );\n",
       "    var xRange = b[1].x - b[0].x;\n",
       "    var yRange = b[1].y - b[0].y;\n",
       "    var zRange = b[1].z - b[0].z;\n",
       "\n",
       "    var ar = options.aspectRatio;\n",
       "    var a = [ ar[0], ar[1], ar[2] ]; // aspect multipliers\n",
       "    var autoAspect = 2.5;\n",
       "    if ( zRange > autoAspect * rRange && a[2] === 1 ) a[2] = autoAspect * rRange / zRange;\n",
       "\n",
       "    // Distance from (xMid,yMid,zMid) to any corner of the bounding box, after applying aspectRatio\n",
       "    var midToCorner = Math.sqrt( a[0]*a[0]*xRange*xRange + a[1]*a[1]*yRange*yRange + a[2]*a[2]*zRange*zRange ) / 2;\n",
       "\n",
       "    var xMid = ( b[0].x + b[1].x ) / 2;\n",
       "    var yMid = ( b[0].y + b[1].y ) / 2;\n",
       "    var zMid = ( b[0].z + b[1].z ) / 2;\n",
       "\n",
       "    var box = new THREE.Geometry();\n",
       "    box.vertices.push( new THREE.Vector3( a[0]*b[0].x, a[1]*b[0].y, a[2]*b[0].z ) );\n",
       "    box.vertices.push( new THREE.Vector3( a[0]*b[1].x, a[1]*b[1].y, a[2]*b[1].z ) );\n",
       "    var boxMesh = new THREE.Line( box );\n",
       "    if ( options.frame ) scene.add( new THREE.BoxHelper( boxMesh, 'black' ) );\n",
       "\n",
       "    if ( options.axesLabels ) {\n",
       "\n",
       "        var d = options.decimals; // decimals\n",
       "        var offsetRatio = 0.1;\n",
       "        var al = options.axesLabels;\n",
       "\n",
       "        var offset = offsetRatio * a[1]*( b[1].y - b[0].y );\n",
       "        var xm = xMid.toFixed(d);\n",
       "        if ( /^-0.?0*$/.test(xm) ) xm = xm.substr(1);\n",
       "        addLabel( al[0] + '=' + xm, a[0]*xMid, a[1]*b[1].y+offset, a[2]*b[0].z );\n",
       "        addLabel( ( b[0].x ).toFixed(d), a[0]*b[0].x, a[1]*b[1].y+offset, a[2]*b[0].z );\n",
       "        addLabel( ( b[1].x ).toFixed(d), a[0]*b[1].x, a[1]*b[1].y+offset, a[2]*b[0].z );\n",
       "\n",
       "        var offset = offsetRatio * a[0]*( b[1].x - b[0].x );\n",
       "        var ym = yMid.toFixed(d);\n",
       "        if ( /^-0.?0*$/.test(ym) ) ym = ym.substr(1);\n",
       "        addLabel( al[1] + '=' + ym, a[0]*b[1].x+offset, a[1]*yMid, a[2]*b[0].z );\n",
       "        addLabel( ( b[0].y ).toFixed(d), a[0]*b[1].x+offset, a[1]*b[0].y, a[2]*b[0].z );\n",
       "        addLabel( ( b[1].y ).toFixed(d), a[0]*b[1].x+offset, a[1]*b[1].y, a[2]*b[0].z );\n",
       "\n",
       "        var offset = offsetRatio * a[1]*( b[1].y - b[0].y );\n",
       "        var zm = zMid.toFixed(d);\n",
       "        if ( /^-0.?0*$/.test(zm) ) zm = zm.substr(1);\n",
       "        addLabel( al[2] + '=' + zm, a[0]*b[1].x, a[1]*b[0].y-offset, a[2]*zMid );\n",
       "        addLabel( ( b[0].z ).toFixed(d), a[0]*b[1].x, a[1]*b[0].y-offset, a[2]*b[0].z );\n",
       "        addLabel( ( b[1].z ).toFixed(d), a[0]*b[1].x, a[1]*b[0].y-offset, a[2]*b[1].z );\n",
       "\n",
       "    }\n",
       "\n",
       "    function addLabel( text, x, y, z, color='black', fontsize=14  ) {\n",
       "\n",
       "        var canvas = document.createElement( 'canvas' );\n",
       "        var pixelRatio = Math.round( window.devicePixelRatio );\n",
       "        canvas.width = 128 * pixelRatio;\n",
       "        canvas.height = 32 * pixelRatio; // powers of two\n",
       "        canvas.style.width = '128px';\n",
       "        canvas.style.height = '32px';\n",
       "\n",
       "        var context = canvas.getContext( '2d' );\n",
       "        context.scale( pixelRatio, pixelRatio );\n",
       "        context.fillStyle = color;\n",
       "        context.font = fontsize + 'px monospace';\n",
       "        context.textAlign = 'center';\n",
       "        context.textBaseline = 'middle';\n",
       "        context.fillText( text, canvas.width/2/pixelRatio, canvas.height/2/pixelRatio );\n",
       "\n",
       "        var texture = new THREE.Texture( canvas );\n",
       "        texture.needsUpdate = true;\n",
       "\n",
       "        var sprite = new THREE.Sprite( new THREE.SpriteMaterial( { map: texture } ) );\n",
       "        sprite.position.set( x, y, z );\n",
       "\n",
       "        // Set the initial scale based on plot size to accomodate orthographic projection.\n",
       "        // For other projections, the scale will get reset each frame based on camera distance.\n",
       "        var scale = midToCorner/2;\n",
       "        sprite.scale.set( scale, scale*.25, 1 ); // ratio of canvas width to height\n",
       "\n",
       "        scene.add( sprite );\n",
       "\n",
       "    }\n",
       "\n",
       "    if ( options.axes ) scene.add( new THREE.AxesHelper( Math.min( a[0]*b[1].x, a[1]*b[1].y, a[2]*b[1].z ) ) );\n",
       "\n",
       "    var camera = createCamera();\n",
       "    camera.up.set( 0, 0, 1 );\n",
       "    camera.position.set( a[0]*(xMid+xRange), a[1]*(yMid+yRange), a[2]*(zMid+zRange) );\n",
       "\n",
       "    function createCamera() {\n",
       "\n",
       "        var aspect = window.innerWidth / window.innerHeight;\n",
       "\n",
       "        if ( options.projection === 'orthographic' ) {\n",
       "            var camera = new THREE.OrthographicCamera( -1, 1, 1, -1, -1000, 1000 );\n",
       "            updateCameraAspect( camera, aspect );\n",
       "            return camera;\n",
       "        }\n",
       "\n",
       "        return new THREE.PerspectiveCamera( 45, aspect, 0.1, 1000 );\n",
       "\n",
       "    }\n",
       "\n",
       "    function updateCameraAspect( camera, aspect ) {\n",
       "\n",
       "        if ( camera.isPerspectiveCamera ) {\n",
       "            camera.aspect = aspect;\n",
       "        } else if ( camera.isOrthographicCamera ) {\n",
       "            // Fit the camera frustum to the bounding box's diagonal so that the entire plot fits\n",
       "            // within at the default zoom level and camera position.\n",
       "            if ( aspect > 1 ) { // Wide window\n",
       "                camera.top = midToCorner;\n",
       "                camera.right = midToCorner * aspect;\n",
       "            } else { // Tall or square window\n",
       "                camera.top = midToCorner / aspect;\n",
       "                camera.right = midToCorner;\n",
       "            }\n",
       "            camera.bottom = -camera.top;\n",
       "            camera.left = -camera.right;\n",
       "        }\n",
       "\n",
       "        camera.updateProjectionMatrix();\n",
       "\n",
       "    }\n",
       "\n",
       "    var lights = [{&quot;x&quot;:-5, &quot;y&quot;:3, &quot;z&quot;:0, &quot;color&quot;:&quot;#7f7f7f&quot;, &quot;parent&quot;:&quot;camera&quot;}];\n",
       "    for ( var i=0 ; i < lights.length ; i++ ) {\n",
       "        var light = new THREE.DirectionalLight( lights[i].color, 1 );\n",
       "        light.position.set( a[0]*lights[i].x, a[1]*lights[i].y, a[2]*lights[i].z );\n",
       "        if ( lights[i].parent === 'camera' ) {\n",
       "            light.target.position.set( a[0]*xMid, a[1]*yMid, a[2]*zMid );\n",
       "            scene.add( light.target );\n",
       "            camera.add( light );\n",
       "        } else scene.add( light );\n",
       "    }\n",
       "    scene.add( camera );\n",
       "\n",
       "    var ambient = {&quot;color&quot;:&quot;#7f7f7f&quot;};\n",
       "    scene.add( new THREE.AmbientLight( ambient.color, 1 ) );\n",
       "\n",
       "    var controls = new THREE.OrbitControls( camera, renderer.domElement );\n",
       "    controls.target.set( a[0]*xMid, a[1]*yMid, a[2]*zMid );\n",
       "    controls.addEventListener( 'change', function() { if ( !animate ) render(); } );\n",
       "\n",
       "    window.addEventListener( 'resize', function() {\n",
       "        \n",
       "        renderer.setSize( window.innerWidth, window.innerHeight );\n",
       "        updateCameraAspect( camera, window.innerWidth / window.innerHeight );\n",
       "        if ( !animate ) render();\n",
       "        \n",
       "    } );\n",
       "\n",
       "    var texts = [];\n",
       "    for ( var i=0 ; i < texts.length ; i++ )\n",
       "        addLabel( texts[i].text, a[0]*texts[i].x, a[1]*texts[i].y, a[2]*texts[i].z, texts[i].color );\n",
       "\n",
       "    var points = [];\n",
       "    for ( var i=0 ; i < points.length ; i++ ) addPoint( points[i] );\n",
       "\n",
       "    function addPoint( json ) {\n",
       "\n",
       "        var geometry = new THREE.Geometry();\n",
       "        var v = json.point;\n",
       "        geometry.vertices.push( new THREE.Vector3( a[0]*v[0], a[1]*v[1], a[2]*v[2] ) );\n",
       "\n",
       "        var canvas = document.createElement( 'canvas' );\n",
       "        canvas.width = 128;\n",
       "        canvas.height = 128;\n",
       "\n",
       "        var context = canvas.getContext( '2d' );\n",
       "        context.arc( 64, 64, 64, 0, 2 * Math.PI );\n",
       "        context.fillStyle = json.color;\n",
       "        context.fill();\n",
       "\n",
       "        var texture = new THREE.Texture( canvas );\n",
       "        texture.needsUpdate = true;\n",
       "\n",
       "        var transparent = json.opacity < 1 ? true : false;\n",
       "        var size = camera.isOrthographicCamera ? json.size : json.size/100;\n",
       "        var material = new THREE.PointsMaterial( { size: size, map: texture,\n",
       "                                                   transparent: transparent, opacity: json.opacity,\n",
       "                                                   alphaTest: .1 } );\n",
       "\n",
       "        var c = new THREE.Vector3();\n",
       "        geometry.computeBoundingBox();\n",
       "        geometry.boundingBox.getCenter( c );\n",
       "        geometry.translate( -c.x, -c.y, -c.z );\n",
       "\n",
       "        var mesh = new THREE.Points( geometry, material );\n",
       "        mesh.position.set( c.x, c.y, c.z );\n",
       "        scene.add( mesh );\n",
       "\n",
       "    }\n",
       "\n",
       "    var lines = [];\n",
       "    for ( var i=0 ; i < lines.length ; i++ ) addLine( lines[i] );\n",
       "\n",
       "    function addLine( json ) {\n",
       "\n",
       "        var geometry = new THREE.Geometry();\n",
       "        for ( var i=0 ; i < json.points.length ; i++ ) {\n",
       "            var v = json.points[i];\n",
       "            geometry.vertices.push( new THREE.Vector3( a[0]*v[0], a[1]*v[1], a[2]*v[2] ) );\n",
       "        }\n",
       "\n",
       "        var transparent = json.opacity < 1 ? true : false;\n",
       "        var material = new THREE.LineBasicMaterial( { color: json.color, linewidth: json.linewidth,\n",
       "                                                      transparent: transparent, opacity: json.opacity } );\n",
       "\n",
       "        var c = new THREE.Vector3();\n",
       "        geometry.computeBoundingBox();\n",
       "        geometry.boundingBox.getCenter( c );\n",
       "        geometry.translate( -c.x, -c.y, -c.z );\n",
       "\n",
       "        var mesh = new THREE.Line( geometry, material );\n",
       "        mesh.position.set( c.x, c.y, c.z );\n",
       "        scene.add( mesh );\n",
       "\n",
       "    }\n",
       "\n",
       "    var surfaces = [{&quot;color&quot;: &quot;#000000&quot;, &quot;opacity&quot;: 0.5, &quot;vertices&quot;: [{&quot;y&quot;: -0.2679491924311228, &quot;x&quot;: 0.2679491924311228, &quot;z&quot;: -1.0}, {&quot;y&quot;: 0.2679491924311228, &quot;x&quot;: 0.2679491924311228, &quot;z&quot;: -1.0}, {&quot;y&quot;: 0.2679491924311228, &quot;x&quot;: -0.2679491924311228, &quot;z&quot;: -1.0}, {&quot;y&quot;: -0.2679491924311228, &quot;x&quot;: -0.2679491924311228, &quot;z&quot;: -1.0}], &quot;faces&quot;: [[0, 1, 2, 3]]}, {&quot;color&quot;: &quot;#000000&quot;, &quot;opacity&quot;: 0.5, &quot;vertices&quot;: [{&quot;y&quot;: -2.1435935394489825, &quot;x&quot;: 2.1435935394489825, &quot;z&quot;: -8.0}, {&quot;y&quot;: 2.1435935394489825, &quot;x&quot;: 2.1435935394489825, &quot;z&quot;: -8.0}, {&quot;y&quot;: 2.1435935394489825, &quot;x&quot;: -2.1435935394489825, &quot;z&quot;: -8.0}, {&quot;y&quot;: -2.1435935394489825, &quot;x&quot;: -2.1435935394489825, &quot;z&quot;: -8.0}], &quot;faces&quot;: [[0, 1, 2, 3]]}, {&quot;color&quot;: &quot;#000000&quot;, &quot;opacity&quot;: 0.5, &quot;vertices&quot;: [{&quot;y&quot;: 0.2679491924311228, &quot;x&quot;: 0.2679491924311228, &quot;z&quot;: -1.0}, {&quot;y&quot;: 0.2679491924311228, &quot;x&quot;: -0.2679491924311228, &quot;z&quot;: -1.0}, {&quot;y&quot;: 2.1435935394489825, &quot;x&quot;: -2.1435935394489825, &quot;z&quot;: -8.0}, {&quot;y&quot;: 2.1435935394489825, &quot;x&quot;: 2.1435935394489825, &quot;z&quot;: -8.0}], &quot;faces&quot;: [[0, 1, 2, 3]]}, {&quot;color&quot;: &quot;#000000&quot;, &quot;opacity&quot;: 0.5, &quot;vertices&quot;: [{&quot;y&quot;: -0.2679491924311228, &quot;x&quot;: 0.2679491924311228, &quot;z&quot;: -1.0}, {&quot;y&quot;: -0.2679491924311228, &quot;x&quot;: -0.2679491924311228, &quot;z&quot;: -1.0}, {&quot;y&quot;: -2.1435935394489825, &quot;x&quot;: -2.1435935394489825, &quot;z&quot;: -8.0}, {&quot;y&quot;: -2.1435935394489825, &quot;x&quot;: 2.1435935394489825, &quot;z&quot;: -8.0}], &quot;faces&quot;: [[0, 1, 2, 3]]}, {&quot;color&quot;: &quot;#000000&quot;, &quot;opacity&quot;: 0.5, &quot;vertices&quot;: [{&quot;y&quot;: 0.2679491924311228, &quot;x&quot;: -0.2679491924311228, &quot;z&quot;: -1.0}, {&quot;y&quot;: 2.1435935394489825, &quot;x&quot;: -2.1435935394489825, &quot;z&quot;: -8.0}, {&quot;y&quot;: -2.1435935394489825, &quot;x&quot;: -2.1435935394489825, &quot;z&quot;: -8.0}, {&quot;y&quot;: -0.2679491924311228, &quot;x&quot;: -0.2679491924311228, &quot;z&quot;: -1.0}], &quot;faces&quot;: [[0, 1, 2, 3]]}, {&quot;color&quot;: &quot;#000000&quot;, &quot;opacity&quot;: 0.5, &quot;vertices&quot;: [{&quot;y&quot;: 0.2679491924311228, &quot;x&quot;: 0.2679491924311228, &quot;z&quot;: -1.0}, {&quot;y&quot;: 2.1435935394489825, &quot;x&quot;: 2.1435935394489825, &quot;z&quot;: -8.0}, {&quot;y&quot;: -2.1435935394489825, &quot;x&quot;: 2.1435935394489825, &quot;z&quot;: -8.0}, {&quot;y&quot;: -0.2679491924311228, &quot;x&quot;: 0.2679491924311228, &quot;z&quot;: -1.0}], &quot;faces&quot;: [[0, 1, 2, 3]]}, {&quot;color&quot;: &quot;#008000&quot;, &quot;opacity&quot;: 0.5, &quot;vertices&quot;: [{&quot;y&quot;: -1.0, &quot;x&quot;: 1.0, &quot;z&quot;: -5.0}, {&quot;y&quot;: 0.0, &quot;x&quot;: -1.0, &quot;z&quot;: -5.0}, {&quot;y&quot;: 1.0, &quot;x&quot;: 0.0, &quot;z&quot;: -5.0}], &quot;faces&quot;: [[0, 1, 2]]}, {&quot;color&quot;: &quot;#008000&quot;, &quot;opacity&quot;: 0.5, &quot;vertices&quot;: [{&quot;y&quot;: 1.0, &quot;x&quot;: 0.0, &quot;z&quot;: -5.0}, {&quot;y&quot;: 0.0, &quot;x&quot;: 2.0, &quot;z&quot;: -5.0}, {&quot;y&quot;: -1.0, &quot;x&quot;: 1.0, &quot;z&quot;: -5.0}], &quot;faces&quot;: [[0, 1, 2]]}, {&quot;color&quot;: &quot;#008000&quot;, &quot;opacity&quot;: 0.5, &quot;vertices&quot;: [{&quot;y&quot;: -1.0, &quot;x&quot;: 1.0, &quot;z&quot;: -5.0}, {&quot;y&quot;: 0.0, &quot;x&quot;: 2.0, &quot;z&quot;: -5.0}, {&quot;y&quot;: 0.0, &quot;x&quot;: 0.0, &quot;z&quot;: -3.0}], &quot;faces&quot;: [[0, 1, 2]]}, {&quot;color&quot;: &quot;#008000&quot;, &quot;opacity&quot;: 0.5, &quot;vertices&quot;: [{&quot;y&quot;: 1.0, &quot;x&quot;: 0.0, &quot;z&quot;: -5.0}, {&quot;y&quot;: 0.0, &quot;x&quot;: 0.0, &quot;z&quot;: -3.0}, {&quot;y&quot;: 0.0, &quot;x&quot;: 2.0, &quot;z&quot;: -5.0}], &quot;faces&quot;: [[0, 1, 2]]}, {&quot;color&quot;: &quot;#008000&quot;, &quot;opacity&quot;: 0.5, &quot;vertices&quot;: [{&quot;y&quot;: 0.0, &quot;x&quot;: -1.0, &quot;z&quot;: -5.0}, {&quot;y&quot;: 0.0, &quot;x&quot;: 0.0, &quot;z&quot;: -3.0}, {&quot;y&quot;: 1.0, &quot;x&quot;: 0.0, &quot;z&quot;: -5.0}], &quot;faces&quot;: [[0, 1, 2]]}, {&quot;color&quot;: &quot;#008000&quot;, &quot;opacity&quot;: 0.5, &quot;vertices&quot;: [{&quot;y&quot;: -1.0, &quot;x&quot;: 1.0, &quot;z&quot;: -5.0}, {&quot;y&quot;: 0.0, &quot;x&quot;: 0.0, &quot;z&quot;: -3.0}, {&quot;y&quot;: 0.0, &quot;x&quot;: -1.0, &quot;z&quot;: -5.0}], &quot;faces&quot;: [[0, 1, 2]]}];\n",
       "    for ( var i=0 ; i < surfaces.length ; i++ ) addSurface( surfaces[i] );\n",
       "\n",
       "    function addSurface( json ) {\n",
       "\n",
       "        var useFaceColors = 'faceColors' in json ? true : false;\n",
       "\n",
       "        var geometry = new THREE.Geometry();\n",
       "        for ( var i=0 ; i < json.vertices.length ; i++ ) {\n",
       "            var v = json.vertices[i];\n",
       "            geometry.vertices.push( new THREE.Vector3( a[0]*v.x, a[1]*v.y, a[2]*v.z ) );\n",
       "        }\n",
       "        for ( var i=0 ; i < json.faces.length ; i++ ) {\n",
       "            var f = json.faces[i];\n",
       "            for ( var j=0 ; j < f.length - 2 ; j++ ) {\n",
       "                var face = new THREE.Face3( f[0], f[j+1], f[j+2] );\n",
       "                if ( useFaceColors ) face.color.set( json.faceColors[i] );\n",
       "                geometry.faces.push( face );\n",
       "            }\n",
       "        }\n",
       "        geometry.computeVertexNormals();\n",
       "\n",
       "        var side = json.singleSide ? THREE.FrontSide : THREE.DoubleSide;\n",
       "        var transparent = json.opacity < 1 ? true : false;\n",
       "\n",
       "        var material = new THREE.MeshPhongMaterial( { side: side,\n",
       "                                     color: useFaceColors ? 'white' : json.color,\n",
       "                                     vertexColors: useFaceColors ? THREE.FaceColors : THREE.NoColors,\n",
       "                                     transparent: transparent, opacity: json.opacity,\n",
       "                                     shininess: 20, flatShading: json.useFlatShading } );\n",
       "\n",
       "        var c = new THREE.Vector3();\n",
       "        geometry.computeBoundingBox();\n",
       "        geometry.boundingBox.getCenter( c );\n",
       "        geometry.translate( -c.x, -c.y, -c.z );\n",
       "\n",
       "        var mesh = new THREE.Mesh( geometry, material );\n",
       "        mesh.position.set( c.x, c.y, c.z );\n",
       "        if ( transparent && json.renderOrder ) mesh.renderOrder = json.renderOrder;\n",
       "        scene.add( mesh );\n",
       "\n",
       "        if ( json.showMeshGrid ) {\n",
       "\n",
       "            var geometry = new THREE.Geometry();\n",
       "\n",
       "            for ( var i=0 ; i < json.faces.length ; i++ ) {\n",
       "                var f = json.faces[i];\n",
       "                for ( var j=0 ; j < f.length ; j++ ) {\n",
       "                    var k = j === f.length-1 ? 0 : j+1;\n",
       "                    var v1 = json.vertices[f[j]];\n",
       "                    var v2 = json.vertices[f[k]];\n",
       "                    // vertices in opposite directions on neighboring faces\n",
       "                    var nudge = f[j] < f[k] ? .0005*zRange : -.0005*zRange;\n",
       "                    geometry.vertices.push( new THREE.Vector3( a[0]*v1.x, a[1]*v1.y, a[2]*(v1.z+nudge) ) );\n",
       "                    geometry.vertices.push( new THREE.Vector3( a[0]*v2.x, a[1]*v2.y, a[2]*(v2.z+nudge) ) );\n",
       "                }\n",
       "            }\n",
       "\n",
       "            var material = new THREE.LineBasicMaterial( { color: 'black', linewidth: 1 } );\n",
       "\n",
       "            var c = new THREE.Vector3();\n",
       "            geometry.computeBoundingBox();\n",
       "            geometry.boundingBox.getCenter( c );\n",
       "            geometry.translate( -c.x, -c.y, -c.z );\n",
       "\n",
       "            var mesh = new THREE.LineSegments( geometry, material );\n",
       "            mesh.position.set( c.x, c.y, c.z );\n",
       "            scene.add( mesh );\n",
       "\n",
       "        }\n",
       "\n",
       "    }\n",
       "\n",
       "    var scratch = new THREE.Vector3();\n",
       "\n",
       "    function render() {\n",
       "\n",
       "        if ( animate ) requestAnimationFrame( render );\n",
       "        renderer.render( scene, camera );\n",
       "\n",
       "        // Resize text based on distance from camera.\n",
       "        // Not neccessary for orthographic due to the nature of the projection (preserves sizes).\n",
       "        if ( !camera.isOrthographicCamera ) {\n",
       "            for ( var i=0 ; i < scene.children.length ; i++ ) {\n",
       "                if ( scene.children[i].type === 'Sprite' ) {\n",
       "                    var sprite = scene.children[i];\n",
       "                    var adjust = scratch.addVectors( sprite.position, scene.position )\n",
       "                                    .sub( camera.position ).length() / 5;\n",
       "                    sprite.scale.set( adjust, .25*adjust, 1 ); // ratio of canvas width to height\n",
       "                }\n",
       "            }\n",
       "        }\n",
       "    }\n",
       "    \n",
       "    render();\n",
       "    controls.update();\n",
       "    if ( !animate ) render();\n",
       "\n",
       "\n",
       "    // menu functions\n",
       "\n",
       "    function toggleMenu() {\n",
       "\n",
       "        var m = document.getElementById( 'menu-content' );\n",
       "        if ( m.style.display === 'block' ) m.style.display = 'none'\n",
       "        else m.style.display = 'block';\n",
       "\n",
       "    }\n",
       "\n",
       "\n",
       "    function saveAsPNG() {\n",
       "\n",
       "        var a = document.body.appendChild( document.createElement( 'a' ) );\n",
       "        a.href = renderer.domElement.toDataURL( 'image/png' );\n",
       "        a.download = 'screenshot';\n",
       "        a.click();\n",
       "\n",
       "    }\n",
       "\n",
       "    function saveAsHTML() {\n",
       "\n",
       "        toggleMenu(); // otherwise visible in output\n",
       "        event.stopPropagation();\n",
       "\n",
       "        var blob = new Blob( [ '<!DOCTYPE html>\\n' + document.documentElement.outerHTML ] );\n",
       "        var a = document.body.appendChild( document.createElement( 'a' ) );\n",
       "        a.href = window.URL.createObjectURL( blob );\n",
       "        a.download = 'graphic.html';\n",
       "        a.click();\n",
       "\n",
       "    }\n",
       "\n",
       "    function getViewpoint() {\n",
       "\n",
       "        function roundTo( x, n ) { return +x.toFixed(n); }\n",
       "\n",
       "        var v = camera.quaternion.inverse();\n",
       "        var r = Math.sqrt( v.x*v.x + v.y*v.y + v.z*v.z );\n",
       "        var axis = [ roundTo( v.x / r, 4 ), roundTo( v.y / r, 4 ), roundTo( v.z / r, 4 ) ];\n",
       "        var angle = roundTo( 2 * Math.atan2( r, v.w ) * 180 / Math.PI, 2 );\n",
       "\n",
       "        var textArea = document.createElement( 'textarea' );\n",
       "        textArea.textContent = JSON.stringify( axis ) + ',' + angle;\n",
       "        textArea.style.csstext = 'position: absolute; top: -100%';\n",
       "        document.body.append( textArea );\n",
       "        textArea.select();\n",
       "        document.execCommand( 'copy' );\n",
       "\n",
       "        var m = document.getElementById( 'menu-message' );\n",
       "        m.innerHTML = 'Viewpoint copied to clipboard';\n",
       "        m.style.display = 'block';\n",
       "        setTimeout( function() { m.style.display = 'none'; }, 2000 );\n",
       "\n",
       "    }\n",
       "\n",
       "</script>\n",
       "\n",
       "<div id=&quot;menu-container&quot; onclick=&quot;toggleMenu()&quot;>&#x24d8;\n",
       "<div id=&quot;menu-message&quot;></div>\n",
       "<div id=&quot;menu-content&quot;>\n",
       "<div onclick=&quot;saveAsPNG()&quot;>Save as PNG</div>\n",
       "<div onclick=&quot;saveAsHTML()&quot;>Save as HTML</div>\n",
       "<div onclick=&quot;getViewpoint()&quot;>Get Viewpoint</div>\n",
       "<div>Close Menu</div>\n",
       "</div></div>\n",
       "\n",
       "</body>\n",
       "</html>\n",
       "\"\n",
       "        width=\"100%\"\n",
       "        height=\"400\"\n",
       "        style=\"border: 0;\">\n",
       "</iframe>\n"
      ],
      "text/plain": [
       "Graphics3d Object"
      ]
     },
     "execution_count": 23,
     "metadata": {},
     "output_type": "execute_result"
    }
   ],
   "source": [
    "# View frustum culling\n",
    "\n",
    "centre=centre_sphere(V)\n",
    "show('rayon de la sphere=',rayon_sphere(centre,V))\n",
    "\n",
    "centreSRC=Mcam*centre\n",
    "distance_centreSRC_viewFrustum(centreSRC,l,r,b,top,near,far)\n",
    "\n",
    "show('Coordonnees du centre de la sphere dans le volume canonique=',simplifyMatrix(Morth*Mpersp*centreSRC).n())\n",
    "     \n",
    "afficherFrustum( l,r,b,top,near,far )+afficher_mallaige_polygonal(Vcam,C,'green')"
   ]
  },
  {
   "cell_type": "code",
   "execution_count": 24,
   "metadata": {},
   "outputs": [
    {
     "data": {
      "text/html": [
       "<html><script type=\"math/tex; mode=display\">\\newcommand{\\Bold}[1]{\\mathbf{#1}}\\left(\\begin{array}{rrrrr}\n",
       "0.746410161513775 & -0.746410161513775 & 0.000000000000000 & 1.49282032302755 & 0.000000000000000 \\\\\n",
       "-0.746410161513775 & 0.000000000000000 & 0.746410161513775 & 0.000000000000000 & 0.000000000000000 \\\\\n",
       "-0.828571428571429 & -0.828571428571429 & -0.828571428571429 & -0.828571428571429 & -0.523809523809524 \\\\\n",
       "1.00000000000000 & 1.00000000000000 & 1.00000000000000 & 1.00000000000000 & 1.00000000000000\n",
       "\\end{array}\\right)</script></html>"
      ],
      "text/plain": [
       "[ 0.746410161513775 -0.746410161513775  0.000000000000000   1.49282032302755  0.000000000000000]\n",
       "[-0.746410161513775  0.000000000000000  0.746410161513775  0.000000000000000  0.000000000000000]\n",
       "[-0.828571428571429 -0.828571428571429 -0.828571428571429 -0.828571428571429 -0.523809523809524]\n",
       "[  1.00000000000000   1.00000000000000   1.00000000000000   1.00000000000000   1.00000000000000]"
      ]
     },
     "metadata": {},
     "output_type": "display_data"
    }
   ],
   "source": [
    "Vproy = simplifyMatrix(Morth*Mpersp*Mcam*V)\n",
    "show(Vproy.n())"
   ]
  },
  {
   "cell_type": "code",
   "execution_count": 25,
   "metadata": {},
   "outputs": [
    {
     "data": {
      "text/html": [
       "<html><script type=\"math/tex; mode=display\">\\newcommand{\\Bold}[1]{\\mathbf{#1}}\\verb|Le|\\phantom{\\verb!x!}\\verb|cote|\\phantom{\\verb!x!}\\verb|est|\\phantom{\\verb!x!}\\verb|parallele|\\phantom{\\verb!x!}\\verb|au|\\phantom{\\verb!x!}\\verb|plan|\\phantom{\\verb!x!}\\verb|near|</script></html>"
      ],
      "text/plain": [
       "'Le cote est parallele au plan near'"
      ]
     },
     "metadata": {},
     "output_type": "display_data"
    },
    {
     "data": {
      "text/html": [
       "<html><script type=\"math/tex; mode=display\">\\newcommand{\\Bold}[1]{\\mathbf{#1}}\\verb|Le|\\phantom{\\verb!x!}\\verb|cote|\\phantom{\\verb!x!}\\verb|et|\\phantom{\\verb!x!}\\verb|le|\\phantom{\\verb!x!}\\verb|plan|\\phantom{\\verb!x!}\\verb|far|\\phantom{\\verb!x!}\\verb|sont|\\phantom{\\verb!x!}\\verb|paralleles|</script></html>"
      ],
      "text/plain": [
       "'Le cote et le plan far sont paralleles'"
      ]
     },
     "metadata": {},
     "output_type": "display_data"
    },
    {
     "data": {
      "text/html": [
       "<html><script type=\"math/tex; mode=display\">\\newcommand{\\Bold}[1]{\\mathbf{#1}}\\verb|Parametre|\\phantom{\\verb!x!}\\verb|plan|\\phantom{\\verb!x!}\\verb|left=| 5.0 \\, \\sqrt{3} - 11.0 \\verb|=| -2.33974596215561</script></html>"
      ],
      "text/plain": [
       "'Parametre plan left= ' 5.0*sqrt(3) - 11.0 '=' -2.33974596215561"
      ]
     },
     "metadata": {},
     "output_type": "display_data"
    },
    {
     "data": {
      "text/html": [
       "<html><script type=\"math/tex; mode=display\">\\newcommand{\\Bold}[1]{\\mathbf{#1}}\\verb|Parametre|\\phantom{\\verb!x!}\\verb|plan|\\phantom{\\verb!x!}\\verb|right=| -5.0 \\, \\sqrt{3} + 9.0 \\verb|=| 0.339745962155614</script></html>"
      ],
      "text/plain": [
       "'Parametre plan right= ' -5.0*sqrt(3) + 9.0 '=' 0.339745962155614"
      ]
     },
     "metadata": {},
     "output_type": "display_data"
    },
    {
     "data": {
      "text/html": [
       "<html><script type=\"math/tex; mode=display\">\\newcommand{\\Bold}[1]{\\mathbf{#1}}\\verb|Parametre|\\phantom{\\verb!x!}\\verb|plan|\\phantom{\\verb!x!}\\verb|bottom=| 5.0 \\, \\sqrt{3} - 9.0 \\verb|=| -0.339745962155614</script></html>"
      ],
      "text/plain": [
       "'Parametre plan bottom= ' 5.0*sqrt(3) - 9.0 '=' -0.339745962155614"
      ]
     },
     "metadata": {},
     "output_type": "display_data"
    },
    {
     "data": {
      "text/html": [
       "<html><script type=\"math/tex; mode=display\">\\newcommand{\\Bold}[1]{\\mathbf{#1}}\\verb|Parametre|\\phantom{\\verb!x!}\\verb|plan|\\phantom{\\verb!x!}\\verb|top=| -5.0 \\, \\sqrt{3} + 11.0 \\verb|=| 2.33974596215561</script></html>"
      ],
      "text/plain": [
       "'Parametre plan top= ' -5.0*sqrt(3) + 11.0 '=' 2.33974596215561"
      ]
     },
     "metadata": {},
     "output_type": "display_data"
    },
    {
     "data": {
      "text/html": [
       "<html><script type=\"math/tex; mode=display\">\\newcommand{\\Bold}[1]{\\mathbf{#1}}\\verb|Parametre|\\phantom{\\verb!x!}\\verb|plan|\\phantom{\\verb!x!}\\verb|near=| 100000000 \\verb|=| 1.00000000000000 \\times 10^{8}</script></html>"
      ],
      "text/plain": [
       "'Parametre plan near= ' 100000000 '=' 1.00000000000000e8"
      ]
     },
     "metadata": {},
     "output_type": "display_data"
    },
    {
     "data": {
      "text/html": [
       "<html><script type=\"math/tex; mode=display\">\\newcommand{\\Bold}[1]{\\mathbf{#1}}\\verb|Parametre|\\phantom{\\verb!x!}\\verb|plan|\\phantom{\\verb!x!}\\verb|far=| 100000000 \\verb|=| 1.00000000000000 \\times 10^{8}</script></html>"
      ],
      "text/plain": [
       "'Parametre plan far= ' 100000000 '=' 1.00000000000000e8"
      ]
     },
     "metadata": {},
     "output_type": "display_data"
    }
   ],
   "source": [
    "#V4 en dehors du view frustum. clipping V1V4v5 et V3V4V5\n",
    "\n",
    "\n",
    "V1 = Vcam.matrix_from_columns([0])\n",
    "V4 = Vcam.matrix_from_columns([3])\n",
    "tplans=intersect_cote_plan(V1,V4,l,r,b,top,near,far)"
   ]
  },
  {
   "cell_type": "code",
   "execution_count": 26,
   "metadata": {},
   "outputs": [
    {
     "data": {
      "text/html": [
       "<html><script type=\"math/tex; mode=display\">\\newcommand{\\Bold}[1]{\\mathbf{#1}}\\verb|Q1=| \\left(\\begin{array}{r}\n",
       "1.33974596215561 \\\\\n",
       "-0.660254037844386 \\\\\n",
       "-5.00000000000000 \\\\\n",
       "1.00000000000000\n",
       "\\end{array}\\right)</script></html>"
      ],
      "text/plain": [
       "'Q1=' [  1.33974596215561]\n",
       "[-0.660254037844386]\n",
       "[ -5.00000000000000]\n",
       "[  1.00000000000000]"
      ]
     },
     "metadata": {},
     "output_type": "display_data"
    }
   ],
   "source": [
    "#coupe le plan droit\n",
    "#Point d'intersection\n",
    "Q1 = V1 + tplans[1]*(V4-V1)\n",
    "show('Q1=',Q1.n())\n",
    "#..."
   ]
  }
 ],
 "metadata": {
  "kernelspec": {
   "display_name": "SageMath 9.1",
   "language": "sage",
   "name": "sagemath"
  },
  "language_info": {
   "codemirror_mode": {
    "name": "ipython",
    "version": 2
   },
   "file_extension": ".py",
   "mimetype": "text/x-python",
   "name": "python",
   "nbconvert_exporter": "python",
   "pygments_lexer": "ipython2",
   "version": "2.7.15"
  }
 },
 "nbformat": 4,
 "nbformat_minor": 2
}
